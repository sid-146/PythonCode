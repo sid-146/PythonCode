{
 "cells": [
  {
   "cell_type": "code",
   "execution_count": null,
   "metadata": {},
   "outputs": [],
   "source": [
    "#Display float number with 2 decimal places using print()\n",
    "\n",
    "First,Second = 0.12,0.26\n",
    "one = float(input(\"Enter First number: \"))\n",
    "two = float(input(\"enter second number: \"))\n",
    "print(\"First: \",First)\n",
    "print(\"Second:\", Second )\n",
    "print(\"one:\", '%.2f'%one)\n",
    "print(\"two:\", '%.2f'%two)\n"
   ]
  },
  {
   "cell_type": "code",
   "execution_count": null,
   "metadata": {},
   "outputs": [],
   "source": [
    "#Takes two integer numbers and  return their product.\n",
    "\n",
    "#! Using two variable which were declared above\n",
    "\n",
    "Multiply = First*Second\n",
    "\n",
    "print(\"mulitply\",Multiply)\n",
    "\n",
    "del Multiply"
   ]
  },
  {
   "cell_type": "code",
   "execution_count": null,
   "metadata": {},
   "outputs": [],
   "source": [
    "#! Write a Python program to get the volume of a sphere with radius 10.\n",
    "\n",
    "import math\n",
    "\n",
    "Radius = float(input(\"Enter Radiant: \"))\n",
    "\n",
    "Pi = math.pi\n",
    "\n",
    "Volume = (4*Pi*(Radius)**3)/3\n",
    "\n",
    "print(\"Volume: \",'%.4f'%Volume)\n",
    "\n",
    "del Volume"
   ]
  },
  {
   "cell_type": "code",
   "execution_count": null,
   "metadata": {},
   "outputs": [],
   "source": [
    "# Accept two numbers from the user and multiply them together.\n",
    "\n",
    "#! using two numbers which were taken as input in earlier cell\n",
    "one = float(input(\"enter first number: \"))\n",
    "two = float(input(\"enter Second number: \"))\n",
    "\n",
    "Multiply = one * two\n",
    "\n",
    "print(\"mulitply\", Multiply)\n",
    "\n",
    "del Multiply\n"
   ]
  },
  {
   "cell_type": "code",
   "execution_count": null,
   "metadata": {},
   "outputs": [],
   "source": [
    "#! Write a Python program that accepts an integer (a) and computes the value of a+aa+aaa.\n",
    "\n",
    "Repeat = int(input(\"Enter lenght of string: \"))\n",
    "\n",
    "Series = Repeat\n",
    "\n",
    "SeriesSum = []\n",
    "\n",
    "for i in range(Repeat):\n",
    "    # print(Series, end=\" + \")\n",
    "    SeriesSum.append(Series)\n",
    "    Series *= 10\n",
    "    Series += Repeat\n",
    "    # print(Series)\n",
    "\n",
    "print(\"Sum of series: \", sum(SeriesSum))\n",
    "\n",
    "del Repeat\n",
    "del Series\n",
    "del SeriesSum"
   ]
  },
  {
   "cell_type": "code",
   "execution_count": null,
   "metadata": {},
   "outputs": [],
   "source": [
    "#! Write a Python program to calculate the length of a string\n",
    "\n",
    "Str = str(input(\"enter string: \"))\n",
    "\n",
    "print(\"Lenght of String: \", len(Str))\n",
    "\n",
    "del Str\n"
   ]
  },
  {
   "cell_type": "code",
   "execution_count": null,
   "metadata": {},
   "outputs": [],
   "source": [
    "#! Write a Python program to parse a string to Float & Integer\n",
    "\n",
    "print(type(Str), Str)\n",
    "\n",
    "Interger = int(Str)\n",
    "print(type(Interger), Interger)"
   ]
  }
 ],
 "metadata": {
  "interpreter": {
   "hash": "92f3f4f30549b17a772c93ea15b7e33efb6f23774e9986ae939b90d7a6a55e06"
  },
  "kernelspec": {
   "display_name": "Python 3.8.11 64-bit ('ClgWork': conda)",
   "name": "python3"
  },
  "language_info": {
   "codemirror_mode": {
    "name": "ipython",
    "version": 3
   },
   "file_extension": ".py",
   "mimetype": "text/x-python",
   "name": "python",
   "nbconvert_exporter": "python",
   "pygments_lexer": "ipython3",
   "version": "3.8.11"
  },
  "orig_nbformat": 4
 },
 "nbformat": 4,
 "nbformat_minor": 2
}
