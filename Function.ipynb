{
 "cells": [
  {
   "cell_type": "code",
   "execution_count": null,
   "id": "e9f1a27e",
   "metadata": {},
   "outputs": [],
   "source": [
    "#. Write a Python function that takes a list of words and returns the length of the longest one.\n",
    "def func(l):\n",
    "    word = l[0]\n",
    "    maxLen = len(l[0])\n",
    "    for i in l:\n",
    "        if len(i) > maxLen:\n",
    "            maxLen = len(i)\n",
    "            word = i\n",
    "    return word, maxLen\n",
    "\n",
    "l = list(map(str, input(\"Enter List of Words: \").split()))\n",
    "w, ml = func(l)\n",
    "print(\"Longest Word: \", w)\n",
    "print(\"Length of Longest Word: \", ml)"
   ]
  },
  {
   "cell_type": "code",
   "execution_count": null,
   "id": "4be1dbf9",
   "metadata": {},
   "outputs": [],
   "source": [
    "#. Write a function x(n) for computing an element in the sequence xn=n^2+1. Call the function for n=4 and write out the result.\n",
    "def x(n):\n",
    "    return (n ** 2) + 1\n",
    "\n",
    "n = 4\n",
    "res = x(n)\n",
    "print(\"Result: \", res)"
   ]
  },
  {
   "cell_type": "code",
   "execution_count": null,
   "id": "34d4333c",
   "metadata": {},
   "outputs": [],
   "source": [
    "#. Take the following Python code that stores a string: ‘str = 'Y-tatata-acropolis: 0.8475'. Use find and string slicing to extract the portion of the string after the colon character and then use the float function to convert the extracted string into a floating point number.\n",
    "def func(str):\n",
    "    c = str.find(':')\n",
    "    n = str[c + 1:]\n",
    "    nf = float(n)\n",
    "    return nf\n",
    "\n",
    "str = 'Y-tatata-acropolis: 0.8475'\n",
    "nf = func(str)\n",
    "print(nf)"
   ]
  },
  {
   "cell_type": "code",
   "execution_count": null,
   "id": "8d74661a",
   "metadata": {},
   "outputs": [],
   "source": [
    "#. Write a function that returns the middle value among three integers. (Hint: make use of min() and max()). Write code to test this function with different inputs.\n",
    "def func(a, b, c):\n",
    "    max1 = max(a, b, c)\n",
    "    min1 = min(a, b, c)\n",
    "    mid = 0\n",
    "    if a != max1 and a != min1:\n",
    "        mid = a\n",
    "    elif b != max1 and b != min1:\n",
    "        mid = b\n",
    "    elif c != max1 and c != min1:\n",
    "        mid = c\n",
    "    return mid\n",
    "\n",
    "print(func(1, 3, 2))"
   ]
  },
  {
   "cell_type": "code",
   "execution_count": null,
   "id": "79753906",
   "metadata": {},
   "outputs": [],
   "source": [
    "#. Write a function that computes the area of a rectangle. Then, write a second function that calls this function three times to compute the surface area of a rectangular solid.\n",
    "def rect(l, b):\n",
    "    return l * b\n",
    "def rs(l, b, h):\n",
    "    return 2 * (rect(l, b) + rect(b, h) + rect(l, h))\n",
    "\n",
    "a = rect(2, 4)\n",
    "print(\"Area: \", a)\n",
    "                \n",
    "sa = rs(2, 4, 1)\n",
    "print(\"Surface Area: \", sa)"
   ]
  },
  {
   "cell_type": "code",
   "execution_count": null,
   "id": "2247faf3",
   "metadata": {},
   "outputs": [],
   "source": [
    "#. Create an outer function that will accept three parameters, a, b and c. Create an inner function inside an outer function that will calculate the addition of a, b and c. At last, an outer function will add 5 into addition and return it.\n",
    "def outer(a, b, c):\n",
    "    def inner(a, b, c):\n",
    "        return a + b + c\n",
    "    return inner(a, b, c) + 5\n",
    "\n",
    "res = outer(1, 2, 3)\n",
    "print(res)"
   ]
  },
  {
   "cell_type": "code",
   "execution_count": null,
   "id": "2a20117d",
   "metadata": {},
   "outputs": [],
   "source": [
    "#. Write a program to create a recursive function to calculate the product of numbers from 10 to 100.\n",
    "def func(n):\n",
    "    prod = 1\n",
    "    if n < 10:\n",
    "        return prod\n",
    "    return n * func(n-1)\n",
    "\n",
    "n = 100\n",
    "print(func(n))"
   ]
  },
  {
   "cell_type": "code",
   "execution_count": null,
   "id": "4be6dc50",
   "metadata": {},
   "outputs": [],
   "source": [
    "#. Write a Python function to calculate the factorial of a number (a non-negative integer). The function accepts the number as an argument.\n",
    "def factorial(n):\n",
    "    if n <= 1:\n",
    "        return 1\n",
    "    return n * factorial(n -1)\n",
    "\n",
    "n = 5\n",
    "print(factorial(n))"
   ]
  },
  {
   "cell_type": "code",
   "execution_count": null,
   "id": "e25a97ea",
   "metadata": {},
   "outputs": [],
   "source": [
    "#. Write a Python function to display all the multiples of 7 & 9 within the range 100 to 500.\n",
    "def func():\n",
    "    l = []\n",
    "    for  i in range(100, 501, 1):\n",
    "        if i % 7 == 0 and i % 9 == 0:\n",
    "            l.append(i)\n",
    "    return l\n",
    "\n",
    "print(func())"
   ]
  },
  {
   "cell_type": "code",
   "execution_count": null,
   "id": "d55ab8eb",
   "metadata": {},
   "outputs": [],
   "source": [
    "#. Write a Python function  to check whether the given integer is a prime number or not.\n",
    "import math\n",
    "def func(n):\n",
    "    flag = 0\n",
    "    for i in range(2, int(math.sqrt(n)) + 1, 1):\n",
    "        if n % i == 0:\n",
    "            flag = 1\n",
    "            break\n",
    "    if n == 1:\n",
    "        print(n, \" is neither prime nor a composite number.\")\n",
    "    else:\n",
    "        if flag == 0:\n",
    "            print(n, \" is a prime number. \")\n",
    "        else:\n",
    "            print(n, \" is not a prime number. \")\n",
    "\n",
    "n = int(input(\"Enter a Number: \"))\n",
    "func(n)"
   ]
  },
  {
   "cell_type": "code",
   "execution_count": null,
   "id": "bdb7293a",
   "metadata": {},
   "outputs": [],
   "source": [
    "#. Write a Python function that checks whether a passed interger is armstrong or not.\n",
    "def func(n1):\n",
    "    n2 = n1\n",
    "    sum = rem = 0\n",
    "    while n2 > 0:\n",
    "        rem = n2 % 10\n",
    "        sum += rem * rem * rem\n",
    "        n2 //= 10\n",
    "    if sum == n1:\n",
    "        print(\"Number is an Armstrong number. \")\n",
    "    else:\n",
    "        print(\"Number is not an Armstrong number. \")\n",
    "        \n",
    "n = int(input(\"Enter a Number: \"))\n",
    "func(n)"
   ]
  },
  {
   "cell_type": "code",
   "execution_count": null,
   "id": "d41f1491",
   "metadata": {},
   "outputs": [],
   "source": [
    "#. Program to return a function from another function.\n",
    "def f1():\n",
    "    print(\"Function 1\")\n",
    "def f2():\n",
    "    print(\"Function 2\")\n",
    "    return f1\n",
    "\n",
    "f = f2\n",
    "print(f())"
   ]
  },
  {
   "cell_type": "code",
   "execution_count": null,
   "id": "eb74a1a1",
   "metadata": {},
   "outputs": [],
   "source": [
    "#. First, def a function, start_process, that takes one argument p. Then, if the start_process function receives an p equal to \"Yes\", it should return \"Start Process\" Alternatively, elif p is equal to \"No\", then the function should return \"Start Process Aborted\". Finally, if start_process gets anything other than those inputs, the function should return \"Sorry for the input\".\n",
    "def startProcess(p):\n",
    "    if p == \"Yes\":\n",
    "        return \"Start Process\" \n",
    "    elif p == \"No\":\n",
    "        return \"Start Process Aborted\"\n",
    "    else:\n",
    "        return \"Sorry for the input\"\n",
    "\n",
    "str = input(\"Enter Input: \")\n",
    "res = startProcess(str)\n",
    "print(res)"
   ]
  },
  {
   "cell_type": "code",
   "execution_count": null,
   "id": "ca78f861",
   "metadata": {},
   "outputs": [],
   "source": [
    "#. First, def a function called calculate_distance, with one argument (choose any argument name you like). If the type of the argument is either int or float, the function should return the absolute value of the function input. Otherwise, the function should return \"No value\". Check if it works calling the function with  9.6 and \"what?\".\n",
    "def calculate_distance(x):\n",
    "    if type(x) == int or type(x) == float:\n",
    "        return abs(x)\n",
    "    else:\n",
    "        return \"No value\"\n",
    "\n",
    "print(calculate_distance(9.6))\n",
    "print(calculate_distance(\"what?\"))"
   ]
  }
 ],
 "metadata": {
  "kernelspec": {
   "display_name": "Python 3",
   "language": "python",
   "name": "python3"
  },
  "language_info": {
   "codemirror_mode": {
    "name": "ipython",
    "version": 3
   },
   "file_extension": ".py",
   "mimetype": "text/x-python",
   "name": "python",
   "nbconvert_exporter": "python",
   "pygments_lexer": "ipython3",
   "version": "3.8.8"
  }
 },
 "nbformat": 4,
 "nbformat_minor": 5
}
