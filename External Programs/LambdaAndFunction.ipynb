{
 "cells": [
  {
   "cell_type": "markdown",
   "metadata": {},
   "source": [
    "### This File is Created and Managed by Sudhanwa Kaveeshwar (CI57)"
   ]
  },
  {
   "cell_type": "code",
   "execution_count": null,
   "metadata": {},
   "outputs": [],
   "source": [
    "# Program 1\n",
    "# * This file is created and managed by Sudhanwa Kaveeshwar (CI57)\n",
    "\n",
    "# ! Different functions with lambda function\n",
    "\n",
    "# ? Creating list of\n",
    "List1 = [x for x in range(1,21)]\n",
    "print(List1)\n",
    "\n",
    "\n",
    "# ? Filter Function\n",
    "EvenNunber = list(filter(lambda x : x%2==0, List1))\n",
    "print(\"This are even numbers\",EvenNunber)\n",
    "\n",
    "\n",
    "OddNumber = list(filter(lambda x: x%2 != 0,List1))\n",
    "print(\"This are odd numbers\",OddNumber)\n",
    "\n",
    "# ? map function\n",
    "Addition = list(map(lambda x,y:x+y, EvenNunber, OddNumber))\n",
    "print(\"Addition of two lists \", Addition)\n",
    "\n",
    "\n"
   ]
  },
  {
   "cell_type": "code",
   "execution_count": null,
   "metadata": {},
   "outputs": [],
   "source": [
    "# Program 2\n",
    "\n",
    "#! Simple lambda function \n",
    "\n",
    "x=(lambda a:a**3)(5)\n",
    "print(x)"
   ]
  },
  {
   "cell_type": "code",
   "execution_count": null,
   "metadata": {},
   "outputs": [],
   "source": [
    "# Program 3\n",
    "\n",
    "# ! printing table using lambda function\n",
    "\n",
    "table=[lambda j=x:9*j for x in range(1,11)]\n",
    "\n",
    "#print(table)\n",
    "\n",
    "for i in table:\n",
    "    print(i())"
   ]
  },
  {
   "cell_type": "code",
   "execution_count": null,
   "metadata": {},
   "outputs": [],
   "source": [
    "# Program 4\n",
    "\n",
    "#! Function for computing element in sequence x(n) = n**2 + 1\n",
    "\n",
    "def Foo(Number:int):\n",
    "    return (Number**2+1)\n",
    "\n",
    "Num = int(input(\"Enter any number: \"))\n",
    "\n",
    "print(Foo(Number=Num))"
   ]
  },
  {
   "cell_type": "code",
   "execution_count": null,
   "metadata": {},
   "outputs": [],
   "source": [
    "# Program 5\n",
    "\n",
    "#! Function Inside Function\n",
    "\n",
    "def Upper(One:int, Two:int, Three:int):\n",
    "    def Inner(One:int, Two:int, Three:int):\n",
    "        Multiply = One*Two*Three\n",
    "        \n",
    "        return Multiply\n",
    "\n",
    "\n",
    "    return Inner(One=One, Two=Two, Three=Three)\n",
    "\n",
    "\n",
    "print(Upper(2,4,6))"
   ]
  },
  {
   "cell_type": "code",
   "execution_count": null,
   "metadata": {},
   "outputs": [],
   "source": [
    "# Program 6\n",
    "\n",
    "# ! Passing Different Type of parameters\n",
    "\n",
    "def Function(P1:int, P2:float, P3:str, P4:list, P5:tuple, P6:dict):\n",
    "    print(type(P1),P1)\n",
    "    print(type(P2),P2)\n",
    "    print(type(P3),P3)\n",
    "    print(type(P4),P4)\n",
    "    print(type(P5),P5)\n",
    "    print(type(P6),P6)\n",
    "\n",
    "\n",
    "p1 = 15\n",
    "p2 = 1.1111\n",
    "p3 = \"Sudhanwa Kaveeshwar\"\n",
    "p4 = [1,2,3,4,5]\n",
    "p5 = (\"this\", \"is\", \"Tuple\")\n",
    "p6 = {\n",
    "    'Name': \"Sudhanwa\",\n",
    "    'Age': 16,\n",
    "    'Language': ['python', 'C++'],\n",
    "    'Department': 'CSIT'\n",
    "}\n",
    "\n",
    "print(Function(p1, p2,p3,p4,p5,p6))\n",
    "\n"
   ]
  },
  {
   "cell_type": "code",
   "execution_count": null,
   "metadata": {},
   "outputs": [],
   "source": [
    "# program 7\n",
    "\n",
    "# keyword and key pair argument\n",
    "\n",
    "def KeywordArg(Name, Last):\n",
    "    print(Name+\" \"+Last)\n",
    "    \n",
    "    \n",
    "KeywordArg(Name=\"Sudhanwa\",Last = \"Kaveeshwar\")\n",
    "KeywordArg(Last=\"Kaveeshwar\",Name=\"Sudhanwa\") "
   ]
  },
  {
   "cell_type": "code",
   "execution_count": null,
   "metadata": {},
   "outputs": [],
   "source": [
    "# Program 8\n",
    "\n",
    "# Variable lenght agrs\n",
    "\n",
    "def VarAgrs(*args):\n",
    "    for arg in args:\n",
    "        print(arg)\n",
    "\n",
    "def KeyVaragrs(**kargs):\n",
    "    for key, Val in kargs.items():\n",
    "        print(\"{0} -> {1}\".format(key, Val))\n",
    "\n",
    "\n",
    "VarAgrs(\"My\",\"Name\",\"is\",\"Sudhanwa\")\n",
    "\n",
    "KeyVaragrs(Start =\"Starting\", Middle=\"Middle\", End=\"Ending\")\n"
   ]
  },
  {
   "cell_type": "code",
   "execution_count": null,
   "metadata": {},
   "outputs": [],
   "source": [
    "# program 9\n",
    "\n",
    "One = 1\n",
    "Two = 2\n",
    "\n",
    "print(\"Before Function values of one and two: \", One, Two)\n",
    "\n",
    "def FUnctio():\n",
    "    global One\n",
    "\n",
    "    print(\"Inside Function referring to global variable \", One,Two)\n",
    "\n",
    "    One = One + Two\n",
    "\n",
    "    print(\"Changin global variable value and not creating another local variable named 'One'\", One,Two)\n",
    "\n",
    "\n",
    "FUnctio()\n",
    "\n",
    "print(\"Outside Function\", One , Two)"
   ]
  },
  {
   "cell_type": "code",
   "execution_count": null,
   "metadata": {},
   "outputs": [],
   "source": [
    "# Program 10\n",
    "\n",
    "# ! Decorator for a function\n",
    "\n",
    "def Decorator(Argfun):\n",
    "\n",
    "    def Wrapper(*args):\n",
    "        print(\"This is Decorator Function\")\n",
    "        for arg in args:\n",
    "            print(arg)\n",
    "\n",
    "        return Argfun(sum(*args))\n",
    "\n",
    "    return Wrapper\n",
    "\n",
    "\n",
    "@Decorator\n",
    "def Function1(One):\n",
    "    return One\n",
    "\n",
    "print(Function1([10,20]))"
   ]
  }
 ],
 "metadata": {
  "interpreter": {
   "hash": "92f3f4f30549b17a772c93ea15b7e33efb6f23774e9986ae939b90d7a6a55e06"
  },
  "kernelspec": {
   "display_name": "Python 3.8.11 64-bit ('ClgWork': conda)",
   "language": "python",
   "name": "python3"
  },
  "language_info": {
   "codemirror_mode": {
    "name": "ipython",
    "version": 3
   },
   "file_extension": ".py",
   "mimetype": "text/x-python",
   "name": "python",
   "nbconvert_exporter": "python",
   "pygments_lexer": "ipython3",
   "version": "3.8.11"
  },
  "orig_nbformat": 4
 },
 "nbformat": 4,
 "nbformat_minor": 2
}
