{
 "cells": [
  {
   "cell_type": "code",
   "execution_count": null,
   "metadata": {},
   "outputs": [],
   "source": [
    "# Program 1\n",
    "# ! 1. Write a python program to display a user entered name followed by Good Afternoon  using input() function.\n",
    "\n",
    "\n",
    "def Greet(Name: str):\n",
    "    return \"{0}, Good Afternoon!\".format(Name)\n",
    "\n",
    "\n",
    "Username = input(\"Enter name here!\")\n",
    "Greet(Username)"
   ]
  },
  {
   "cell_type": "code",
   "execution_count": null,
   "metadata": {},
   "outputs": [],
   "source": [
    "# program 2\n",
    "\n",
    "#\"Write a program to input marks of five subjects Physics, Chemistry, Biology, Mathematics and Computer. \n",
    "# Calculate percentage and grade according to following:\n",
    "# Percentage >= 90 % : Grade A\n",
    "# Percentage >= 80 % : Grade B\n",
    "# Percentage >= 70 % : Grade C\n",
    "# Percentage >= 60 % : Grade D\n",
    "# Percentage >= 40 % : Grade E\n",
    "# Percentage < 40 % :  Grade F\"\n",
    "\n",
    "Phy, Chem, Bio, Math,Comp = map(int, input(\"Enter marks seprated by space: \").split(\" \"))\n",
    "\n",
    "Marks = Phy+ Chem+ Bio+ Math+ Comp\n",
    "\n",
    "Perc = (Marks/500)*100\n",
    "\n",
    "if Perc >= 90:\n",
    "    print(\"A grade: \", Perc)\n",
    "elif Perc >= 80:\n",
    "    print(\"B grade: \", Perc)\n",
    "elif Perc >= 70:\n",
    "    print(\"C grade: \", Perc)\n",
    "elif Perc >= 60:\n",
    "    print(\"D grade: \", Perc)\n",
    "elif Perc >= 40:\n",
    "    print(\"E grade: \", Perc)\n",
    "elif Perc < 40:\n",
    "    print(\"F grade: \", Perc)\n"
   ]
  },
  {
   "cell_type": "code",
   "execution_count": null,
   "metadata": {},
   "outputs": [],
   "source": [
    "# Program 3\n",
    "# ! Replace Double space with sigle space\n",
    "\n",
    "String = \"My   Name    is    Sudhanwa   Kaveeshwar\"\n",
    "\n",
    "print(\"String before correction '{0}'\".format(String))\n",
    "\n",
    "Correct = \" \".join(String.split())\n",
    "\n",
    "print(\"String after correction '{0}'\".format(Correct))"
   ]
  },
  {
   "cell_type": "code",
   "execution_count": null,
   "metadata": {},
   "outputs": [],
   "source": [
    "# Program 4\n",
    "# !4. Write a program to store seven fruits in a list entered by the user\n",
    "\n",
    "Fruits = []\n",
    "\n",
    "for i in range(1, 8):\n",
    "    Fruit = input(\"Enter Fruit name\")\n",
    "    if Fruit in Fruits:\n",
    "        print(\"Already entered\")\n",
    "    else:\n",
    "        Fruits.append(Fruit)\n",
    "\n",
    "print(Fruits)"
   ]
  },
  {
   "cell_type": "code",
   "execution_count": null,
   "metadata": {},
   "outputs": [],
   "source": [
    "# Program 5\n",
    "\n",
    "# ! 5. Write a program to enter marks of 6 students and display them in sorted order.\n",
    "\n",
    "def GetMarks(Marks: list):\n",
    "    Marks.sort()\n",
    "    return Marks\n",
    "\n",
    "\n",
    "StudentMarks = []\n",
    "for i in range(1, 7):\n",
    "    Mark = input(\"Enter marks of {0}\".format(i + 1))\n",
    "\n",
    "\n",
    "print(\"Before sorting\", StudentMarks)\n",
    "print(GetMarks())"
   ]
  },
  {
   "cell_type": "code",
   "execution_count": null,
   "metadata": {},
   "outputs": [],
   "source": [
    "# program 6\n",
    "\n",
    "#! 6. Write a program to count the number of zeroes in following tuple. a = (7,0,8,0,0,9)\n",
    "\n",
    "a = (7, 0, 8, 0, 0, 9)\n",
    "\n",
    "print(\"Tuple: \", a)\n",
    "\n",
    "Count = a.count(0)\n",
    "\n",
    "print(\"COunt of '0' in tuple: \", Count)"
   ]
  },
  {
   "cell_type": "code",
   "execution_count": null,
   "metadata": {},
   "outputs": [],
   "source": [
    "# Program 7\n",
    "#! Given two integer numbers return their sum. If the sum is greater than 100, then return their product.\n",
    "\n",
    "First, Second = map(\n",
    "   int ,input(\"Enter two number seprated by ',': \").split(\",\"))\n",
    "\n",
    "if First+Second >= 100:\n",
    "    print(\"Sum: \",First+Second)\n",
    "else:\n",
    "    print(\"Multiplication: \",First*Second)\n",
    "\n",
    "del First, Second\n"
   ]
  },
  {
   "cell_type": "code",
   "execution_count": null,
   "metadata": {},
   "outputs": [],
   "source": [
    "# Program 8\n",
    "#! Find the sum of the series 3 +33 + 333 + 3333 + .. n terms \n",
    "\n",
    "x= int(input()) #3\n",
    "n= int(input()) #10\n",
    "sum=0\n",
    "z=0\n",
    "for i in range(n):\n",
    "    z+=(x*(10**i))\n",
    "    sum+=z\n",
    "print(sum)"
   ]
  },
  {
   "cell_type": "code",
   "execution_count": null,
   "metadata": {},
   "outputs": [],
   "source": [
    "# Program 9\n",
    "\n",
    "# !What will be the length of the following set \n",
    "# S =set() \n",
    "# S.add(20) \n",
    "# S.add(20.0) \n",
    "# S.add(“20”) \n",
    "# Length of S after operation? \n",
    "\n",
    "S =set()\n",
    "S.add(20)\n",
    "S.add(20.0)\n",
    "S.add(\"20\")\n",
    "\n",
    "print(S)\n",
    "\n",
    "print(len(S))"
   ]
  },
  {
   "cell_type": "code",
   "execution_count": null,
   "metadata": {},
   "outputs": [],
   "source": [
    "# Program 10\n",
    "#!  Can you change the values inside a list which is contained in set S? S = {8,7,12,”Simarjeet”,[1,2]} \n",
    "\n",
    "S = {8,7,12,\"Simarjeet\",[1,2]}\n",
    "\n",
    "\"\"\"\n",
    "TypeError                                 Traceback (most recent call last)\n",
    "~\\AppData\\Local\\Temp/ipykernel_1308/2706121632.py in <module>\n",
    "      2 #  Can you change the values inside a list which is contained in set S? S = {8,7,12,”Simarjeet”,[1,2]}\n",
    "      3 \n",
    "----> 4 S = {8,7,12,\"Simarjeet\",[1,2]}\n",
    "      5 \n",
    "      6 print(S)\n",
    "\n",
    "TypeError: unhashable type: 'list'\n",
    "\"\"\""
   ]
  },
  {
   "cell_type": "code",
   "execution_count": null,
   "metadata": {},
   "outputs": [],
   "source": [
    "# Program 11\n",
    "#!. Write a Python program to change a given string to a new string where the second and last chars have been exchanged.\n",
    "\n",
    "s = input(\"Enter a String: \")\n",
    "print(s[0] + s[-1] + s[2:-1] + s[1])"
   ]
  },
  {
   "cell_type": "code",
   "execution_count": null,
   "metadata": {},
   "outputs": [],
   "source": [
    "# Program 12\n",
    "#! Write a program to check whether a username consists of less than 10 characters or  not. \n",
    "\n",
    "Username = input(\"Enter username\")\n",
    "\n",
    "if len(Username) < 10:\n",
    "    print(\"less than 10\")\n",
    "elif len(Username) == 10:\n",
    "    print(\"equal to 10\")\n",
    "else:\n",
    "    print(\"Greater than 10\")\n"
   ]
  },
  {
   "cell_type": "code",
   "execution_count": null,
   "metadata": {},
   "outputs": [],
   "source": [
    "# Program 13\n",
    "#!  Write a program to find out whether a given post is talking about ”Simarjeet” or not. \n",
    "\n",
    "post = input(\"Enter Post here!\")\n",
    "\n",
    "Name = \"simarjeet\"\n",
    "\n",
    "if Name.lower() or Name.capitalize() or Name.upper() in post:\n",
    "    print(Name,\" Yes present in post\")\n",
    "\n",
    "else:\n",
    "    print(\"Not present in post\")\n"
   ]
  },
  {
   "cell_type": "code",
   "execution_count": null,
   "metadata": {},
   "outputs": [],
   "source": [
    "# Program 14\n",
    "#! Write a program to greet all the person names stored in a list L1 and which starts with  ‘S’. (hint: use startswith(“S”) method) \n",
    "#! i. L1 = [“Simarjeet”, “Sohan”, “Sachin”, “Rahul”] \n",
    "\n",
    "L1 = [\"Simarjeet\", \"sohan\", \"Sachin\", \"Rahul\"]\n",
    "\n",
    "for Words in L1:\n",
    "\n",
    "    if Words.startswith(\"s\") or Words.startswith(\"S\"):\n",
    "        print(\"{0} greetings!!\".format(Words))"
   ]
  },
  {
   "cell_type": "code",
   "execution_count": null,
   "metadata": {},
   "outputs": [],
   "source": [
    "# Program 15\n",
    "#! Write a program to check whether a number is prime or not.\n",
    "\n",
    "Number = int(input(\"Enter NUmber\"))\n",
    "\n",
    "i = 2\n",
    "while i < Number:\n",
    "    if Number % i == 0:\n",
    "        print(Number, \" is not prime number\")\n",
    "        break\n",
    "\n",
    "    i += 1\n",
    "else:\n",
    "    print(\"Number is prime number\")"
   ]
  },
  {
   "cell_type": "code",
   "execution_count": null,
   "metadata": {},
   "outputs": [],
   "source": [
    "# Program 16\n",
    "#! 16. Find the greatest of 3 numbers using function \n",
    "\n",
    "def Greatest(num1, num2, num3):\n",
    "    largest = 0    \n",
    "    \n",
    "    if (num1 >= num2) and (num1 >= num3):\n",
    "        largest = num1\n",
    "    \n",
    "    elif (num2 >= num1) and (num2 >= num3):\n",
    "        largest = num2\n",
    "    \n",
    "    else:\n",
    "        largest = num3\n",
    "\n",
    "    return largest\n",
    "\n",
    "import random\n",
    "a = random.randint(1,125)\n",
    "b = random.randint(1,125)\n",
    "c = random.randint(1,125)\n",
    "\n",
    "Greatest(a,b,c)"
   ]
  },
  {
   "cell_type": "code",
   "execution_count": null,
   "metadata": {},
   "outputs": [],
   "source": [
    "# program 17\n",
    "#! How do you prevent a python function to print a new line at the end.(use , end = “ ” in  print after hello\n",
    "\n",
    "l = [x for x in range(1,11)]\n",
    "\n",
    "for i in l:\n",
    "    print(i, end=\" \")"
   ]
  },
  {
   "cell_type": "code",
   "execution_count": null,
   "metadata": {},
   "outputs": [],
   "source": [
    "# program 18\n",
    "#! Recursive function to calculate the sum of first n natural numbers.\n",
    "\n",
    "def RecSum(Num):\n",
    "    \n",
    "    if Num <= 1:\n",
    "        return Num\n",
    "    else:\n",
    "        return Num + RecSum(Num-1)\n",
    "\n",
    "RecSum(random.randint(1,125))"
   ]
  },
  {
   "cell_type": "code",
   "execution_count": null,
   "metadata": {},
   "outputs": [],
   "source": [
    "# Program 19\n",
    "#! Program to reverse a given Number.    ex: n=123   Reversed no is 321\n",
    "\n",
    "\n",
    "Number = int(input(\"Enter Number: \"))\n",
    "NewNumber = 0\n",
    "\n",
    "while Number > 0:\n",
    "    SingleDigit = Number % 10\n",
    "    Number //= 10\n",
    "    NewNumber *= 10\n",
    "    NewNumber += SingleDigit\n",
    "\n",
    "\n",
    "print(\"Reversed Number: \", NewNumber)\n"
   ]
  },
  {
   "cell_type": "code",
   "execution_count": null,
   "metadata": {},
   "outputs": [],
   "source": [
    "# Program 20\n",
    "#! 20 Write a Python program that takes input from the user and displays that input back in upper and\n",
    "#! lower cases.\n",
    "\n",
    "name = input(\"Enter input\")\n",
    "\n",
    "print(\"Upper: \", name.upper())\n",
    "print(\"lower: \",name.lower())"
   ]
  },
  {
   "cell_type": "code",
   "execution_count": null,
   "metadata": {},
   "outputs": [],
   "source": [
    "# Program 21\n",
    "#! 21. Write a program to generate multiplication tables from 2 to 20.\n",
    "\n",
    "def Table(tableof:int):\n",
    "    for i in range(1, 11):\n",
    "        print(tableof * i)\n",
    "\n",
    "option = int(input(\"Enter number to create table of: \"))\n",
    "\n",
    "Table(option)"
   ]
  },
  {
   "cell_type": "code",
   "execution_count": null,
   "metadata": {},
   "outputs": [],
   "source": [
    "# Program 22\n",
    "#! Python program to delete an element from a list by index which is given by the user.\n",
    "\n",
    "l1 = [x for x in range(1,21)]\n",
    "\n",
    "print(l1)\n",
    "\n",
    "io = int(input(\"Enter index\"))\n",
    "\n",
    "l1.pop(io)\n",
    "\n",
    "print(l1)"
   ]
  },
  {
   "cell_type": "code",
   "execution_count": null,
   "metadata": {},
   "outputs": [],
   "source": [
    "#2 Program 23\n",
    "#! Write a Python program to find all the values in a list are greater than a given number.\n",
    "\n",
    "l1 = [x for x in range(1,26)]\n",
    "\n",
    "io = int(input(\"Enter Number\"))\n",
    "\n",
    "empty = []\n",
    "\n",
    "for i in range(l1):\n",
    "    if io < l1[i]:\n",
    "        empty.append(l1[i]) \n",
    "\n",
    "print(empty)"
   ]
  },
  {
   "cell_type": "code",
   "execution_count": null,
   "metadata": {},
   "outputs": [],
   "source": [
    "# program 24\n",
    "#! Write a program to check whether 2 files are identical or not.\n",
    "# reading files\n",
    "f1 = open(\"f1.txt\", \"r\")\n",
    "f2 = open(\"f2.txt\", \"r\")\n",
    "\n",
    "i = 0\n",
    "\n",
    "for line1 in f1:\n",
    "    i += 1\n",
    "\n",
    "    for line2 in f2:\n",
    "        \n",
    "        # matching line1 from both files\n",
    "        if line1 == line2:  \n",
    "            print(\"Line \", i, \": Identical\")\t\n",
    "        else:\n",
    "            print(\"Line \", i, \":\")\n",
    "            # else print that line from both files\n",
    "            print(\"\\tFile 1:\", line1, end='')\n",
    "            print(\"\\tFile 2:\", line2, end='')\n",
    "        break\n",
    "\n",
    "# closing files\n",
    "f1.close()\n",
    "f2.close()"
   ]
  },
  {
   "cell_type": "code",
   "execution_count": 6,
   "metadata": {},
   "outputs": [],
   "source": [
    "# program 25\n",
    "#! 25. Write a program to empty all the contents of a file.\n",
    "\n",
    "with open(\"empty.txt\", 'r+') as File:\n",
    "    # File.seek(0)\n",
    "    File.truncate()"
   ]
  }
 ],
 "metadata": {
  "interpreter": {
   "hash": "287d3d239aeb1281e5f3cf03f4241abc897b23c26a2bcf773cf4f70fe57fe31a"
  },
  "kernelspec": {
   "display_name": "Python 3.8.8 64-bit ('base': conda)",
   "language": "python",
   "name": "python3"
  },
  "language_info": {
   "codemirror_mode": {
    "name": "ipython",
    "version": 3
   },
   "file_extension": ".py",
   "mimetype": "text/x-python",
   "name": "python",
   "nbconvert_exporter": "python",
   "pygments_lexer": "ipython3",
   "version": "3.8.8"
  },
  "orig_nbformat": 4
 },
 "nbformat": 4,
 "nbformat_minor": 2
}
