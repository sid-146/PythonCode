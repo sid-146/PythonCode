{
 "cells": [
  {
   "cell_type": "code",
   "execution_count": null,
   "metadata": {},
   "outputs": [],
   "source": [
    "# Program 1\n",
    "# ! 1. Write a python program to display a user entered name followed by Good Afternoon  using input() function.\n",
    "\n",
    "\n",
    "def Greet(Name: str):\n",
    "    return \"{0}, Good Afternoon!\".format(Name)\n",
    "\n",
    "\n",
    "Username = input(\"Enter name here!\")\n",
    "Greet(Username)\n"
   ]
  },
  {
   "cell_type": "code",
   "execution_count": null,
   "metadata": {},
   "outputs": [],
   "source": [
    "# Program 2\n",
    "# ! 2. Write a program to fill in a letter template given below with name and date:\n",
    "# ! a. letter = ‘’’ Dear <|Name|>\n",
    "# ! You are selected\n",
    "# ! <|Date|>’’’\n",
    "\n",
    "\n",
    "def Selection(Name: str, Date: str):\n",
    "    Letter = \"Dear {0},\\nYou are selected!\\n{1}\".format(Name, Date)\n",
    "    print(Letter)\n",
    "\n",
    "\n",
    "Username = input(\"Enter name\")\n",
    "Date = input(\"Enter Date\")\n",
    "Selection(Name=Username, Date=Date)\n"
   ]
  },
  {
   "cell_type": "code",
   "execution_count": null,
   "metadata": {},
   "outputs": [],
   "source": [
    "# Program 3\n",
    "# ! Replace Double space with sigle space\n",
    "\n",
    "String = \"My   Name    is    Sudhanwa   Kaveeshwar\"\n",
    "\n",
    "print(\"String before correction '{0}'\".format(String))\n",
    "\n",
    "Correct = \" \".join(String.split())\n",
    "\n",
    "print(\"String after correction '{0}'\".format(Correct))\n"
   ]
  },
  {
   "cell_type": "code",
   "execution_count": null,
   "metadata": {},
   "outputs": [],
   "source": [
    "# Program 4\n",
    "# !4. Write a program to store seven fruits in a list entered by the user\n",
    "\n",
    "Fruits = []\n",
    "\n",
    "for i in range(1, 8):\n",
    "    Fruit = input(\"Enter Fruit name\")\n",
    "    if Fruit in Fruits:\n",
    "        print(\"Already entered\")\n",
    "    else:\n",
    "        Fruits.append(Fruit)\n",
    "\n",
    "print(Fruits)\n"
   ]
  },
  {
   "cell_type": "code",
   "execution_count": null,
   "metadata": {},
   "outputs": [],
   "source": [
    "# Program 5\n",
    "# ! 5. Write a program to enter marks of 6 students and display them in sorted order.\n",
    "\n",
    "\n",
    "def GetMarks(Marks: list):\n",
    "    Marks.sort()\n",
    "    return Marks\n",
    "\n",
    "\n",
    "StudentMarks = []\n",
    "for i in range(1, 7):\n",
    "    Mark = input(\"Enter marks of {0}\".format(i + 1))\n",
    "\n",
    "\n",
    "print(\"Before sorting\", StudentMarks)\n",
    "print(GetMarks())\n"
   ]
  },
  {
   "cell_type": "code",
   "execution_count": null,
   "metadata": {},
   "outputs": [],
   "source": [
    "# Program 6\n",
    "# !6. Write a program to count the number of zeroes in following tuple. a = (7,0,8,0,0,9)\n",
    "\n",
    "a = (7, 0, 8, 0, 0, 9)\n",
    "\n",
    "print(\"Tuple: \", a)\n",
    "\n",
    "Count = a.count(0)\n",
    "\n",
    "print(\"COunt of '0' in tuple: \", Count)\n"
   ]
  },
  {
   "cell_type": "code",
   "execution_count": null,
   "metadata": {},
   "outputs": [],
   "source": [
    "# Program 7\n",
    "# !Write a program to create a dictionary of Hindi words with values as their English  Translation. Provide user with an option to look it up\n",
    "\n",
    "import json\n",
    "\n",
    "class EnglishDict:\n",
    "\n",
    "    def AddWord(self,Key:str,Value:str):\n",
    "        with open(\"Dictionary.txt\") as File:\n",
    "            File.appned()\n",
    "        \n",
    "\n",
    "    def GetKeys(self):\n",
    "        with open(\"Dictionary.txt\") as File:\n",
    "            Data = File.read()\n",
    "        \n",
    "        Data = json.loads(Data)\n",
    "\n",
    "    def Search(self,Key:str):\n",
    "        with open(\"Dictionary.txt\") as File:\n",
    "            Data = File.read()\n",
    "        \n",
    "        Data = json.loads(Data)\n",
    "\n",
    "        Value = Data.get(Key)\n",
    "\n",
    "        print(\"{0} --> {1}\".format(Key, Value))\n",
    "\n",
    "\n",
    "    def PrintDict(self):\n",
    "        with open(\"Dictionary.txt\") as File:\n",
    "            Data = File.read()\n",
    "\n",
    "            Data = json.loads(Data)\n",
    "\n",
    "            for key, Value in Data:\n",
    "                print(\"{0} --> {1}\".format(key, Value))\n",
    "\n",
    "if __name__ =='__main__':\n",
    "\n",
    "    Text = input(\"Enter Option\")\n",
    "    print('print -> to print dictionary\\nadd -> to add word\\nsearch-> to search word in dictionary')\n",
    "\n",
    "    Obj = EnglishDict()\n",
    "\n",
    "    while Text.lower() != 'quit':\n",
    "        \n",
    "        Text = input(\"Enter Option\")\n"
   ]
  }
 ],
 "metadata": {
  "interpreter": {
   "hash": "43435a050d4ac362dc4b1b4851a0333547cf4819a4e47175b9a0f2919a9b0b1b"
  },
  "kernelspec": {
   "display_name": "Python 3.9.5 64-bit",
   "language": "python",
   "name": "python3"
  },
  "language_info": {
   "codemirror_mode": {
    "name": "ipython",
    "version": 3
   },
   "file_extension": ".py",
   "mimetype": "text/x-python",
   "name": "python",
   "nbconvert_exporter": "python",
   "pygments_lexer": "ipython3",
   "version": "3.8.11"
  },
  "orig_nbformat": 4
 },
 "nbformat": 4,
 "nbformat_minor": 2
}
