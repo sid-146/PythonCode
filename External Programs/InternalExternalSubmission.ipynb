{
 "cells": [
  {
   "cell_type": "code",
   "execution_count": null,
   "metadata": {},
   "outputs": [],
   "source": [
    "# Program 1\n",
    "# ! 1. Write a python program to display a user entered name followed by Good Afternoon  using input() function. \n",
    "\n",
    "def Greet(Name:str):\n",
    "    return \"{0}, Good Afternoon!\".format(Name)\n",
    "\n",
    "Username = input(\"Enter name here!\")\n",
    "Greet(Username)"
   ]
  },
  {
   "cell_type": "code",
   "execution_count": null,
   "metadata": {},
   "outputs": [],
   "source": [
    "# Program 2\n",
    "# ! 2. Write a program to fill in a letter template given below with name and date: \n",
    "# ! a. letter = ‘’’ Dear <|Name|> \n",
    "# ! You are selected \n",
    "# ! <|Date|>’’’ \n",
    "\n",
    "\n",
    "def Selection(Name:str, Date:str):\n",
    "    Letter = \"Dear {0},\\nYou are selected!\\n{1}\".format(Name, Date)\n",
    "    print(Letter)\n",
    "\n",
    "\n",
    "Username = input(\"Enter name\")\n",
    "Date = input(\"Enter Date\")\n",
    "Selection(Name=Username, Date=Date)"
   ]
  },
  {
   "cell_type": "code",
   "execution_count": null,
   "metadata": {},
   "outputs": [],
   "source": []
  }
 ],
 "metadata": {
  "interpreter": {
   "hash": "43435a050d4ac362dc4b1b4851a0333547cf4819a4e47175b9a0f2919a9b0b1b"
  },
  "kernelspec": {
   "display_name": "Python 3.9.5 64-bit",
   "language": "python",
   "name": "python3"
  },
  "language_info": {
   "codemirror_mode": {
    "name": "ipython",
    "version": 3
   },
   "file_extension": ".py",
   "mimetype": "text/x-python",
   "name": "python",
   "nbconvert_exporter": "python",
   "pygments_lexer": "ipython3",
   "version": "3.8.11"
  },
  "orig_nbformat": 4
 },
 "nbformat": 4,
 "nbformat_minor": 2
}
