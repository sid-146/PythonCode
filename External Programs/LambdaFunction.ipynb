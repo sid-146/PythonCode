{
 "cells": [
  {
   "cell_type": "code",
   "execution_count": null,
   "metadata": {},
   "outputs": [],
   "source": [
    "#\n",
    "# * This file is created and managed by Sudhanwa Kaveeshwar (CI57)\n",
    "\n",
    "# ! Different functions with lambda function\n",
    "\n",
    "# ? Creating list of\n",
    "List1 = [x for x in range(1,21)]\n",
    "print(List1)\n",
    "\n",
    "\n",
    "# ? Filter Function\n",
    "EvenNunber = list(filter(lambda x : x%2==0, List1))\n",
    "print(\"This are even numbers\",EvenNunber)\n",
    "\n",
    "\n",
    "OddNumber = list(filter(lambda x: x%2 != 0,List1))\n",
    "print(\"This are odd numbers\",OddNumber)\n",
    "\n",
    "# ? map function\n",
    "Addition = list(map(lambda x,y:x+y, EvenNunber, OddNumber))\n",
    "print(\"Addition of two lists \", Addition)\n",
    "\n",
    "\n"
   ]
  },
  {
   "cell_type": "code",
   "execution_count": null,
   "metadata": {},
   "outputs": [],
   "source": [
    "\n",
    "#! Simple lambda function \n",
    "\n",
    "x=(lambda a:a*a*a)(5)\n",
    "print(x)"
   ]
  },
  {
   "cell_type": "code",
   "execution_count": null,
   "metadata": {},
   "outputs": [],
   "source": [
    "\n",
    "# ! printing table using lambda function\n",
    "\n",
    "table=[lambda j=x:9*j for x in range(1,11)]\n",
    "\n",
    "#print(table)\n",
    "\n",
    "for i in table:\n",
    "    print(i())"
   ]
  }
 ],
 "metadata": {
  "interpreter": {
   "hash": "92f3f4f30549b17a772c93ea15b7e33efb6f23774e9986ae939b90d7a6a55e06"
  },
  "kernelspec": {
   "display_name": "Python 3.8.11 64-bit ('ClgWork': conda)",
   "language": "python",
   "name": "python3"
  },
  "language_info": {
   "codemirror_mode": {
    "name": "ipython",
    "version": 3
   },
   "file_extension": ".py",
   "mimetype": "text/x-python",
   "name": "python",
   "nbconvert_exporter": "python",
   "pygments_lexer": "ipython3",
   "version": "3.8.11"
  },
  "orig_nbformat": 4
 },
 "nbformat": 4,
 "nbformat_minor": 2
}
