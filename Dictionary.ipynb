{
 "cells": [
  {
   "cell_type": "code",
   "execution_count": null,
   "source": [
    "# Dictinory\r\n",
    "\r\n",
    "SimpleDict = {1:True, 2:False}\r\n"
   ],
   "outputs": [],
   "metadata": {}
  }
 ],
 "metadata": {
  "orig_nbformat": 4,
  "language_info": {
   "name": "python",
   "version": "3.8.11"
  },
  "kernelspec": {
   "name": "python3",
   "display_name": "Python 3.8.11 64-bit ('ClgWork': conda)"
  },
  "interpreter": {
   "hash": "27b300438e21ba2aca3a0a49ad832b8b6aeda8e0c574b88f13120bb2334a176a"
  }
 },
 "nbformat": 4,
 "nbformat_minor": 2
}