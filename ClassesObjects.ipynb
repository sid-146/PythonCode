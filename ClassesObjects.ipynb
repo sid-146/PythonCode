{
 "cells": [
  {
   "cell_type": "code",
   "execution_count": null,
   "source": [
    "## Classes and object demo\r\n",
    "\r\n",
    "class Vehical():\r\n",
    "    speed = 0\r\n",
    "\r\n",
    "    def IncreseSpeed(self, IncreaseSpeed:int):\r\n",
    "        global speed\r\n",
    "        speed += IncreaseSpeed\r\n",
    "        \r\n",
    "        Vehical.PrintInfo(self, speed)\r\n",
    "\r\n",
    "\r\n",
    "    def DecreaseSpeed(self, DecSpeed:int):\r\n",
    "        global speed\r\n",
    "        speed -= DecSpeed\r\n",
    "\r\n",
    "        Vehical.PrintInfo(self, speed)\r\n",
    "\r\n",
    "    def PrintInfo(self, speed:int):\r\n",
    "        print(\"Current Speed of Vehical is: \", speed)\r\n",
    "\r\n",
    "\r\n",
    "\r\n",
    "if __name__ ==\"__main__\":\r\n",
    "    Obj = Vehical()\r\n",
    "    \r\n",
    "    print(\"q -> quit()\\ni -> increasespeed()\\nd -> decreasespeed()\")\r\n",
    "\r\n",
    "    active = True\r\n",
    "\r\n",
    "    while active == True:\r\n",
    "        opt = input(\"Enter choice: \")\r\n",
    "        if opt.lower() == \"q\":\r\n",
    "            statement = \"Program exited\"\r\n",
    "            print(statement)\r\n",
    "            active = False\r\n",
    "        elif opt.lower() == \"i\":\r\n",
    "            speed = int(input(\"enter speed: \"))\r\n",
    "            Obj.IncreseSpeed(speed)\r\n",
    "        elif opt.lower() == \"d\": \r\n",
    "            speed = int(input(\"enter speed: \"))\r\n",
    "        else:\r\n",
    "            print(\"Wrong choice \")"
   ],
   "outputs": [],
   "metadata": {}
  }
 ],
 "metadata": {
  "orig_nbformat": 4,
  "language_info": {
   "name": "python",
   "version": "3.8.11",
   "mimetype": "text/x-python",
   "codemirror_mode": {
    "name": "ipython",
    "version": 3
   },
   "pygments_lexer": "ipython3",
   "nbconvert_exporter": "python",
   "file_extension": ".py"
  },
  "kernelspec": {
   "name": "python3",
   "display_name": "Python 3.8.11 64-bit ('ClgWork': conda)"
  },
  "interpreter": {
   "hash": "27b300438e21ba2aca3a0a49ad832b8b6aeda8e0c574b88f13120bb2334a176a"
  }
 },
 "nbformat": 4,
 "nbformat_minor": 2
}