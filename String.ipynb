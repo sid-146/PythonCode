{
 "cells": [
  {
   "cell_type": "code",
   "execution_count": null,
   "metadata": {},
   "outputs": [],
   "source": [
    "#Write a Python program to calculate the length of a given string.\n",
    "\n",
    "String = input(\"Enter String\")\n",
    "\n",
    "print(\"Length :\",len(String))\n",
    "\n"
   ]
  },
  {
   "cell_type": "code",
   "execution_count": null,
   "metadata": {},
   "outputs": [],
   "source": [
    "# \"Write a Python program to get a single string from two given strings,\n",
    "# separated by a space and swap the first characters of each string.\n",
    "#  Sample String : 'abc', 'xyz' \n",
    "#  Expected Result : 'xbc ayz'\"\n",
    "\n",
    "\n",
    "String1, String2 = input(\"Enter 2 Strings\").split()\n",
    "\n",
    "print(String2[0:1]+String1[1:],\" \",String1[0:1]+String2[1:])"
   ]
  },
  {
   "cell_type": "code",
   "execution_count": null,
   "metadata": {},
   "outputs": [],
   "source": [
    "# \"Write a Python program to add 'polis' at the end of a given string (length should be at least 3).\n",
    "#   If the given string already ends with 'polis' then add 'polisCS' instead.\n",
    "#   If the string length of the given string is less than 3, leave it unchanged. \n",
    "#  Sample String : 'abc'\n",
    "#  Expected Result : 'abcpolisCS' \n",
    "#  Sample String : 'Acropolis'\n",
    "#  Expected Result : 'AcropolisCS'\"\n",
    "\n",
    "String1 = input(\"Enter String\")\n",
    "if len(String1) >= 3:\n",
    "    if String1.endswith(\"polis\"):\n",
    "        String1 += \"CS\"\n",
    "    else:\n",
    "        String1 += \"polisCS\"\n",
    "\n",
    "print(String1)"
   ]
  },
  {
   "cell_type": "code",
   "execution_count": null,
   "metadata": {},
   "outputs": [],
   "source": [
    "# \"Write a Python program to count the number of characters (character frequency) in a string. \n",
    "#  Sample String : google.com'\n",
    "#  Expected Result : {'o': 3, 'g': 2, '.': 1, 'e': 1, 'l': 1, 'm': 1, 'c': 1}\"\n",
    "\n",
    "s = input(\"Enter a String: \")\n",
    "d = {}\n",
    "for i in s:\n",
    "    k = d.keys()\n",
    "    if i in k:\n",
    "        d[i] += 1\n",
    "    else:\n",
    "        d[i] = 1\n",
    "print(d)"
   ]
  },
  {
   "cell_type": "code",
   "execution_count": null,
   "metadata": {},
   "outputs": [],
   "source": [
    "# Write a Python program to change a given string to a new string where the second and last chars have been exchanged.\n",
    "\n",
    "s = input(\"Enter a String: \")\n",
    "print(s[0] + s[-1] + s[2:-1] + s[1])\n"
   ]
  },
  {
   "cell_type": "code",
   "execution_count": null,
   "metadata": {},
   "outputs": [],
   "source": [
    "# Write a Python program to remove the characters which have even index values of a given string.\n",
    "s = input(\"Enter a String: \")\n",
    "print(s[1::2])"
   ]
  },
  {
   "cell_type": "code",
   "execution_count": null,
   "metadata": {},
   "outputs": [],
   "source": []
  }
 ],
 "metadata": {
  "language_info": {
   "name": "python"
  },
  "orig_nbformat": 4
 },
 "nbformat": 4,
 "nbformat_minor": 2
}
