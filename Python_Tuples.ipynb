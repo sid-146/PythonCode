{
 "cells": [
  {
   "cell_type": "code",
   "execution_count": null,
   "id": "096daf5f",
   "metadata": {},
   "outputs": [],
   "source": [
    "## tuples \n",
    "\n",
    "Tuple1 = (1,2,3,4,5)\n",
    "Tuple1"
   ]
  },
  {
   "cell_type": "code",
   "execution_count": null,
   "id": "73ff3a70",
   "metadata": {},
   "outputs": [],
   "source": [
    "## different types of tuples \n",
    "\n",
    "Boolean = (True, True,False,True)\n",
    "IntTuple = (1,23,4,5,6)\n",
    "FloatTuple = (1.3,1.3,1.5,1.9,5.6)\n",
    "StringTuple = (\"a\",\"b\",\"c\",\"d\",\"e\")\n",
    "\n",
    "print(Boolean)\n",
    "print(IntTuple)\n",
    "print(FloatTuple)\n",
    "print(StringTuple)"
   ]
  },
  {
   "cell_type": "code",
   "execution_count": null,
   "id": "62936195",
   "metadata": {},
   "outputs": [],
   "source": [
    "### converting list into tuple\n",
    "\n",
    "l = [1,2,3,4,5]\n",
    "\n",
    "tu = tuple(l)\n",
    "print(type(tu), tu)"
   ]
  },
  {
   "cell_type": "code",
   "execution_count": null,
   "id": "35f9df19",
   "metadata": {},
   "outputs": [],
   "source": [
    "## concatenation of tuples \n",
    "\n",
    "ConTup = tu + StringTuple\n",
    "\n",
    "print(ConTup)"
   ]
  },
  {
   "cell_type": "code",
   "execution_count": null,
   "id": "6ae13ca7",
   "metadata": {},
   "outputs": [],
   "source": [
    "## nesting of tuples \n",
    "\n",
    "tuple1 = (1,2,3,4,5)\n",
    "tuple2 = (\"Sudhanwa\",\"Kaveeshwar\",\"57\")\n",
    "\n",
    "tuple3 = (tuple1, tuple2)\n",
    "\n",
    "print(tuple3)"
   ]
  },
  {
   "cell_type": "code",
   "execution_count": null,
   "id": "8ebfa4de",
   "metadata": {},
   "outputs": [],
   "source": [
    "#### tuples are immutable \n",
    "\n",
    "tuple4 = (1,2,3)\n",
    "tuple4[3] = 4\n",
    "\n",
    "# TypeError                                 Traceback (most recent call last)\n",
    "# ~\\AppData\\Local\\Temp/ipykernel_11484/231124426.py in <module>\n",
    "#       2 \n",
    "#       3 tuple4 = (1,2,3)\n",
    "# ----> 4 tuple4[3] = 4\n",
    "\n",
    "# TypeError: 'tuple' object does not support item assignment\n",
    "\n"
   ]
  },
  {
   "cell_type": "code",
   "execution_count": null,
   "id": "3a24c50e",
   "metadata": {},
   "outputs": [],
   "source": [
    "### Tuples Slicing\n",
    "tuple5 = (0,1,2,3,4,5,6,7,8,9)\n",
    "\n",
    "print(tuple5[1:])\n",
    "print(tuple5[::-1])\n",
    "print(tuple5[1:10:2])\n",
    "\n",
    "### length function \n",
    "\n",
    "print(len(tuple5))"
   ]
  },
  {
   "cell_type": "code",
   "execution_count": null,
   "id": "f1ce28b8",
   "metadata": {},
   "outputs": [],
   "source": [
    "### deleting a tuple\n",
    "\n",
    "tuple6 = (1,23,4,5,6,7)\n",
    "\n",
    "print(tuple6)\n",
    "del tuple6\n",
    "print(tuple6)\n",
    "\n",
    "# ---------------------------------------------------------------------------\n",
    "# NameError                                 Traceback (most recent call last)\n",
    "# ~\\AppData\\Local\\Temp/ipykernel_16404/2135612122.py in <module>\n",
    "#       5 print(tuple6)\n",
    "#       6 del tuple6\n",
    "# ----> 7 print(tuple6)\n",
    "\n",
    "# NameError: name 'tuple6' is not defined"
   ]
  },
  {
   "cell_type": "code",
   "execution_count": null,
   "id": "8ae3d0e2",
   "metadata": {},
   "outputs": [],
   "source": [
    "### Functions on tuples \n",
    "\n",
    "tuple7 = (1,2,4,56,7,89,0,99,8)\n",
    "maximum = max(tuple7)\n",
    "minimum = min(tuple7)\n",
    "\n",
    "print(\"Max: \", maximum)\n",
    "print(\"Min: \",minimum)\n",
    "\n",
    "print(\"Len: \", len(tuple7))\n",
    "\n"
   ]
  }
 ],
 "metadata": {
  "kernelspec": {
   "display_name": "Python 3 (ipykernel)",
   "language": "python",
   "name": "python3"
  },
  "language_info": {
   "codemirror_mode": {
    "name": "ipython",
    "version": 3
   },
   "file_extension": ".py",
   "mimetype": "text/x-python",
   "name": "python",
   "nbconvert_exporter": "python",
   "pygments_lexer": "ipython3",
   "version": "3.8.11"
  }
 },
 "nbformat": 4,
 "nbformat_minor": 5
}
