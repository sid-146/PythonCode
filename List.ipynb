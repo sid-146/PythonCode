{
 "cells": [
  {
   "cell_type": "code",
   "execution_count": null,
   "id": "1043a05f",
   "metadata": {},
   "outputs": [],
   "source": [
    "#. Python program to display the sum of input (n) numbers using a list.\n",
    "n = int(input(\"Enter Number of Elements: \"))\n",
    "l = list(map(int, input(\"Enter the Numbers:\").strip().split()))[:n]\n",
    "sum = 0\n",
    "for i in l:\n",
    "    sum += i\n",
    "print(\"Sum = \", sum)"
   ]
  },
  {
   "cell_type": "code",
   "execution_count": null,
   "id": "27609e8d",
   "metadata": {},
   "outputs": [],
   "source": [
    "#. Python program to insert a number to given position in a list.\n",
    "n = int(input(\"Enter Number of Elements: \"))\n",
    "l = list(map(int, input(\"Enter the Numbers: \").strip().split()))[:n]\n",
    "ele = int(input(\"Enter Element to be Inserted: \"))\n",
    "pos = int(input(\"Enter Position at which Element is to be Inserted: \"))\n",
    "print(\"New List: \", l[:pos] + [ele] + l[pos:])"
   ]
  },
  {
   "cell_type": "code",
   "execution_count": null,
   "id": "5caf8c99",
   "metadata": {},
   "outputs": [],
   "source": [
    "#. Write the program that prompts the user for a list of numbers and prints out the maximum and minimum of the numbers at the end when the user enters “done”. Write the program to store the numbers the user enters in a list and use the max() and min() functions to compute the maximum and minimum numbers after the loop completes.\n",
    "l = []\n",
    "while True:\n",
    "    n = input(\"Enter a Number: \")\n",
    "    print(\"Enter 'done' to exit. \")\n",
    "    if n == 'done':\n",
    "        break\n",
    "    else:\n",
    "        l.append(n)\n",
    "print(\"Maximum Number: \", max(l))\n",
    "print(\"Minimum Number: \", min(l))"
   ]
  },
  {
   "cell_type": "code",
   "execution_count": null,
   "id": "f451b9bf",
   "metadata": {},
   "outputs": [],
   "source": [
    "#. Write another program that prompts for a list of numbers as above and at the end prints out both the maximum and minimum of the numbers.\n",
    "import sys\n",
    "l = []\n",
    "min = sys.maxsize\n",
    "max = 0\n",
    "while True:\n",
    "    n = input(\"Enter a Number: \")\n",
    "    print(\"Enter 'done' to exit. \")\n",
    "    if n == 'done':\n",
    "        break\n",
    "    else:\n",
    "        l.append(n)\n",
    "for i in l:\n",
    "    if int(i) < int(min):\n",
    "        min = i\n",
    "    if int(i) > int(max):\n",
    "        max = i\n",
    "print(\"Maximum Number: \", max)\n",
    "print(\"Minimum Number: \", min)"
   ]
  },
  {
   "cell_type": "code",
   "execution_count": null,
   "id": "a5c44212",
   "metadata": {},
   "outputs": [],
   "source": [
    "#. Python program to delete an element from a list by index which is given by the user.\n",
    "n = int(input(\"Enter Number of Elements: \"))\n",
    "l = list(map(int, input(\"Enter the Numbers: \").strip().split()))[:n]\n",
    "pos = int(input(\"Enter Position of the Element to be Deleted: \"))\n",
    "del l[pos]\n",
    "print(l)"
   ]
  },
  {
   "cell_type": "code",
   "execution_count": null,
   "id": "54d5b74d",
   "metadata": {},
   "outputs": [],
   "source": [
    "#. Write a Python program to print a specified list after removing the 1st, 2nd and 5th elements.\n",
    "n = int(input(\"Enter Number of Elements: \"))\n",
    "l = list(map(int, input(\"Enter the Numbers: \").strip().split()))[:n]\n",
    "del l[5], l[1:3] \n",
    "print(l)"
   ]
  },
  {
   "cell_type": "code",
   "execution_count": null,
   "id": "ca0c1ecd",
   "metadata": {},
   "outputs": [],
   "source": [
    "#. Write a Python program to generate all sublists of a list.\n",
    "n = int(input(\"Enter Number of Elements: \"))\n",
    "l = list(map(int, input(\"Enter the Numbers: \").strip().split()))[:n]\n",
    "subLists = [[]]\n",
    "for i in range(len(l) + 1):\n",
    "    for j in range(i):\n",
    "        subLists.append(l[j:i])\n",
    "print(\"Sublists: \", subLists)"
   ]
  },
  {
   "cell_type": "code",
   "execution_count": null,
   "id": "6345fbdb",
   "metadata": {},
   "outputs": [],
   "source": [
    "#. Write a Python program to find all the values in a list are greater than a given number.\n",
    "n = int(input(\"Enter Number of Elements: \"))\n",
    "l = list(map(int, input(\"Enter the Numbers: \").strip().split()))[:n]\n",
    "ele = int(input(\"Enter the Number: \"))\n",
    "print(\"Values greater than\", ele, \"in the list:\", end = \" \")\n",
    "for i in l:\n",
    "    if i > ele:\n",
    "        print(i, end = \" \")"
   ]
  },
  {
   "cell_type": "code",
   "execution_count": null,
   "id": "0e03d73d",
   "metadata": {},
   "outputs": [],
   "source": [
    "#. Python program to find the even numbers in a List.\n",
    "n = int(input(\"Enter Number of Elements: \"))\n",
    "l = list(map(int, input(\"Enter the Numbers: \").strip().split()))[:n]\n",
    "print(\"Even Nuumbers in the list:\", end = \" \")\n",
    "for i in l:\n",
    "    if i % 2 == 0:\n",
    "        print(i, end = \" \")"
   ]
  }
 ],
 "metadata": {
  "kernelspec": {
   "display_name": "Python 3",
   "language": "python",
   "name": "python3"
  },
  "language_info": {
   "codemirror_mode": {
    "name": "ipython",
    "version": 3
   },
   "file_extension": ".py",
   "mimetype": "text/x-python",
   "name": "python",
   "nbconvert_exporter": "python",
   "pygments_lexer": "ipython3",
   "version": "3.8.8"
  }
 },
 "nbformat": 4,
 "nbformat_minor": 5
}
