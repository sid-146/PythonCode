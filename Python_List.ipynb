{
 "cells": [
  {
   "cell_type": "code",
   "execution_count": null,
   "id": "f4f6abd5",
   "metadata": {},
   "outputs": [],
   "source": [
    "### List \n",
    "\n",
    "# list declaration \n",
    "list1 = []\n",
    "\n",
    "list2 = [1,2,4,5,\"Sudhanwa\",\"Kaveeshwar\",\"57\",True, False]\n",
    "\n",
    "print(list1, list2)\n",
    "\n",
    "## accessing element\n",
    "print(list2[2])"
   ]
  },
  {
   "cell_type": "code",
   "execution_count": null,
   "id": "d5c98b9c",
   "metadata": {},
   "outputs": [],
   "source": [
    "## multidimenational list\n",
    "\n",
    "list3 = [list1, list2]\n",
    "print(list3)\n",
    "\n",
    "## changing list into tuple\n",
    "\n",
    "tuple1 = tuple(list2)\n",
    "print(type(tuple1), tuple1)\n",
    "\n",
    "## len function\n",
    "list5 = [1,2,3,4,5,6,7]\n",
    "print(\"Length of list5: \",len(list5))"
   ]
  },
  {
   "cell_type": "code",
   "execution_count": null,
   "id": "2cc2fbbd",
   "metadata": {},
   "outputs": [],
   "source": [
    "### Adding element in the list\n",
    "list6 = []\n",
    "\n",
    "## append function\n",
    "list6.append(9)\n",
    "list6.append(\"Sudhanwa\")\n",
    "list6.append(\"57\")\n",
    "\n",
    "list6.append((1,2,3))\n",
    "list6.append([True,False])\n",
    "\n",
    "print(list6)"
   ]
  },
  {
   "cell_type": "code",
   "execution_count": null,
   "id": "64309bcb",
   "metadata": {},
   "outputs": [],
   "source": [
    "## insert function \n",
    "\n",
    "list7 = []\n",
    "for i in range(1,5):\n",
    "    list7.append(i)\n",
    "    \n",
    "print(list7)\n",
    "\n",
    "list7.insert(3, 11)\n",
    "list7.insert(4, \"Sudhanwa\")\n",
    "\n",
    "print(list7)"
   ]
  },
  {
   "cell_type": "code",
   "execution_count": null,
   "id": "2411bc25",
   "metadata": {},
   "outputs": [],
   "source": [
    "## Extend function\n",
    "\n",
    "list8 = []\n",
    "for i in range(1,5):\n",
    "    list8.append(i)\n",
    "    \n",
    "print(list8)\n",
    "\n",
    "list8.extend([1,23,4])\n",
    "list8.extend([\"Sudhanwa\",\"Kaveeshwar\"])\n",
    "\n",
    "print(list8)"
   ]
  },
  {
   "cell_type": "code",
   "execution_count": null,
   "id": "509fb048",
   "metadata": {},
   "outputs": [],
   "source": [
    "### multidimentional List and indexing\n",
    "\n",
    "list9=[[1,2,3,4,5,6],\"Multi\",\"Dimentional\", [True, True,False]]\n",
    "\n",
    "print(list9)\n",
    "\n",
    "print(list9[0])\n",
    "print(list9[1])\n",
    "print(list9[0][3])\n",
    "\n",
    "## negative indexing \n",
    "print(list9[-1][-1])\n",
    "print(list9[-2])\n",
    "\n"
   ]
  },
  {
   "cell_type": "code",
   "execution_count": null,
   "id": "e524fc11",
   "metadata": {},
   "outputs": [],
   "source": [
    "### removing elements from list\n",
    "# these method removes first instant of the parameter\n",
    "list10 = [1,1,3,4,5,6,7]\n",
    "print(list10)\n",
    "\n",
    "list10.remove(1)\n",
    "list10.remove(5)\n",
    "\n",
    "print(list10)\n",
    "\n",
    "### pop function\n",
    "\n",
    "list11=[1,2,3,4,5,6,7,9]\n",
    "print(list11)\n",
    "\n",
    "list11.pop()\n",
    "\n",
    "print(list11)\n",
    "\n",
    "list11.pop(2)\n",
    "print(list11)"
   ]
  },
  {
   "cell_type": "code",
   "execution_count": null,
   "id": "6c425d7d",
   "metadata": {},
   "outputs": [],
   "source": [
    "## List slicing \n",
    "\n",
    "list12 = [x for x in range(1,16)]\n",
    "\n",
    "print(list12[1:16:2])\n",
    "print(list12[::-1])\n",
    "print(list12[-17:-1:2])\n"
   ]
  },
  {
   "cell_type": "code",
   "execution_count": null,
   "id": "9407dcad",
   "metadata": {},
   "outputs": [],
   "source": [
    "### List comprehensions\n",
    "\n",
    "list13 = [x for x in range(1,101,2)]\n",
    "print(list13)\n",
    "\n",
    "list14 = [x ** 2 for x in range(1,21) if x%2 == 0]\n",
    "print(list14)\n"
   ]
  },
  {
   "cell_type": "code",
   "execution_count": null,
   "id": "89470b2e",
   "metadata": {},
   "outputs": [],
   "source": [
    "### repeating instant\n",
    "list15 = [None]*5\n",
    "\n",
    "print(list15)\n",
    "    "
   ]
  },
  {
   "cell_type": "code",
   "execution_count": null,
   "id": "51237ea9",
   "metadata": {},
   "outputs": [],
   "source": [
    "## deleting list \n",
    "\n",
    "list16 = [1,2,4,5,6,7,8,9]\n",
    "\n",
    "print(list16)\n",
    "\n",
    "del list16\n",
    "\n",
    "print(list16)\n",
    "\n",
    "# [1, 2, 4, 5, 6, 7, 8, 9]\n",
    "# ---------------------------------------------------------------------------\n",
    "# NameError                                 Traceback (most recent call last)\n",
    "# ~\\AppData\\Local\\Temp/ipykernel_11592/185278682.py in <module>\n",
    "#       7 del list16\n",
    "#       8 \n",
    "# ----> 9 print(list16)\n",
    "\n",
    "# NameError: name 'list16' is not defined\n"
   ]
  }
 ],
 "metadata": {
  "kernelspec": {
   "display_name": "Python 3 (ipykernel)",
   "language": "python",
   "name": "python3"
  },
  "language_info": {
   "codemirror_mode": {
    "name": "ipython",
    "version": 3
   },
   "file_extension": ".py",
   "mimetype": "text/x-python",
   "name": "python",
   "nbconvert_exporter": "python",
   "pygments_lexer": "ipython3",
   "version": "3.8.11"
  }
 },
 "nbformat": 4,
 "nbformat_minor": 5
}
