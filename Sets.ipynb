{
 "cells": [
  {
   "cell_type": "code",
   "execution_count": null,
   "metadata": {},
   "outputs": [],
   "source": [
    "#! Set's elements are immutable \n",
    "# but set itself is muteable\n",
    "#  \n",
    "\n",
    "\n",
    "Set1 ={1,2,3,4,5}\n",
    "print(type(Set1),Set1)"
   ]
  },
  {
   "cell_type": "code",
   "execution_count": null,
   "metadata": {},
   "outputs": [],
   "source": [
    "Set2 = set(['a','b','c','d'])\n",
    "\n",
    "#! using function\n",
    "print(\"Using Function\")\n",
    "print(\"Intersection \",Set1.intersection(Set2))\n",
    "print(\"Union\",Set1.union(Set2))\n",
    "\n",
    "#! using operators\n",
    "print(\"using operators\")\n",
    "print(\"Union\", Set1|Set2)\n",
    "print(\"Intersection\", Set1&Set2)\n"
   ]
  }
 ],
 "metadata": {
  "interpreter": {
   "hash": "27b300438e21ba2aca3a0a49ad832b8b6aeda8e0c574b88f13120bb2334a176a"
  },
  "kernelspec": {
   "display_name": "Python 3.8.11 64-bit ('ClgWork': conda)",
   "language": "python",
   "name": "python3"
  },
  "language_info": {
   "codemirror_mode": {
    "name": "ipython",
    "version": 3
   },
   "file_extension": ".py",
   "mimetype": "text/x-python",
   "name": "python",
   "nbconvert_exporter": "python",
   "pygments_lexer": "ipython3",
   "version": "3.8.11"
  },
  "orig_nbformat": 4
 },
 "nbformat": 4,
 "nbformat_minor": 2
}
