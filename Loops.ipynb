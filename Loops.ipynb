{
 "cells": [
  {
   "cell_type": "code",
   "execution_count": null,
   "metadata": {},
   "outputs": [],
   "source": [
    "# \"Program to find the digital product of a given number\n",
    "#    ex: n=43   Digital product ----->4*3=12\n",
    "# \"\n",
    "\n",
    "Number = int(input(\"Enter Sum: \"))\n",
    "Sum = 0\n",
    "\n",
    "while Number > 0:\n",
    "    SingleDigit = Number % 10\n",
    "    Sum *= SingleDigit\n",
    "    # print(SingleDigit)\n",
    "    Number = Number // 10\n",
    "\n",
    "print(\"Sum is: \",Sum)\n",
    "\n",
    "del Number, Sum, SingleDigit"
   ]
  },
  {
   "cell_type": "code",
   "execution_count": null,
   "metadata": {},
   "outputs": [],
   "source": [
    "# \"Program to find digital sum of a given Number\n",
    "#    ex: n=123  Digital sum----->1+2+3=6\n",
    "# \"\n",
    "Number = int(input(\"Enter Number: \"))\n",
    "Multi = 1\n",
    "\n",
    "while Number > 0:\n",
    "    SingleDigit = Number % 10\n",
    "    Multi *= SingleDigit\n",
    "    Number = Number // 10\n",
    "\n",
    "print(\"Multi is: \",Multi)\n",
    "\n",
    "del Number, Multi, SingleDigit\n"
   ]
  },
  {
   "cell_type": "code",
   "execution_count": null,
   "metadata": {},
   "outputs": [],
   "source": [
    "# Find the sum of the series 3 +33 + 333 + 3333 + .. n terms\n"
   ]
  },
  {
   "cell_type": "code",
   "execution_count": null,
   "metadata": {},
   "outputs": [],
   "source": [
    "# \"Print the following pattern\n",
    "# * \n",
    "# * * \n",
    "# * * * \n",
    "# * * * * \n",
    "# * * * * * \n",
    "# * * * * \n",
    "# * * * \n",
    "# * * \n",
    "# *\"\n",
    "\n",
    "for i in range(1,6):\n",
    "    print(\"* \"*i)\n",
    "for i in range(4,0,-1):\n",
    "    print(\"* \"*i)\n"
   ]
  },
  {
   "cell_type": "code",
   "execution_count": null,
   "metadata": {},
   "outputs": [],
   "source": [
    "# Program to reverse a given Number.    ex: n=123   Reversed no is 321\n",
    "\n",
    "\n",
    "Number = int(input(\"Enter Number: \"))\n",
    "NewNumber = 0\n",
    "\n",
    "while Number > 0:\n",
    "    SingleDigit = Number % 10\n",
    "    Number //= 10\n",
    "    NewNumber *= 10\n",
    "    NewNumber += SingleDigit\n",
    "\n",
    "\n",
    "print(\"Reversed Number: \", NewNumber)\n",
    "\n",
    "\n",
    "del Number, NewNumber, SingleDigit\n"
   ]
  },
  {
   "cell_type": "code",
   "execution_count": null,
   "metadata": {},
   "outputs": [],
   "source": [
    "# Program to check whether a given number is a palindrome or not\n",
    "\n",
    "\n",
    "Number = int(input(\"Enter Number: \"))\n",
    "Copy = Number\n",
    "NewNumber = 0\n",
    "\n",
    "while Number > 0:\n",
    "    SingleDigit = Number % 10\n",
    "    Number //= 10\n",
    "    NewNumber *= 10\n",
    "    NewNumber += SingleDigit\n",
    "\n",
    "print(Copy, NewNumber)\n",
    "if Copy == NewNumber:\n",
    "    print(\"Number is Palindrome\")\n",
    "else:\n",
    "    print(\"Numbers are not palindrome\")\n",
    "\n",
    "\n",
    "del Number, NewNumber, SingleDigit"
   ]
  },
  {
   "cell_type": "code",
   "execution_count": null,
   "metadata": {},
   "outputs": [],
   "source": [
    "# Program to check whether a given number is an Armstrong number or not.\n",
    "\n",
    "Number = int(input(\"Enter Number: \"))\n",
    "NumberCopy = Number\n"
   ]
  }
 ],
 "metadata": {
  "interpreter": {
   "hash": "27b300438e21ba2aca3a0a49ad832b8b6aeda8e0c574b88f13120bb2334a176a"
  },
  "kernelspec": {
   "display_name": "Python 3.8.11 64-bit ('ClgWork': conda)",
   "name": "python3"
  },
  "language_info": {
   "codemirror_mode": {
    "name": "ipython",
    "version": 3
   },
   "file_extension": ".py",
   "mimetype": "text/x-python",
   "name": "python",
   "nbconvert_exporter": "python",
   "pygments_lexer": "ipython3",
   "version": "3.8.11"
  },
  "orig_nbformat": 4
 },
 "nbformat": 4,
 "nbformat_minor": 2
}
