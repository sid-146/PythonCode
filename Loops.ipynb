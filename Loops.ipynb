{
 "cells": [
  {
   "cell_type": "code",
   "execution_count": 4,
   "metadata": {},
   "outputs": [
    {
     "name": "stdout",
     "output_type": "stream",
     "text": [
      "Sum is:  3\n"
     ]
    }
   ],
   "source": [
    "# \"Program to find the digital product of a given number\n",
    "#    ex: n=43   Digital product ----->4*3=12\n",
    "# \"\n",
    "\n",
    "Number = int(input(\"Enter Sum: \"))\n",
    "Sum = 0\n",
    "\n",
    "while Number > 0:\n",
    "    SingleDigit = Number % 10\n",
    "    Sum *= SingleDigit\n",
    "    # print(SingleDigit)\n",
    "    Number = Number // 10\n",
    "\n",
    "print(\"Sum is: \",Sum)\n",
    "\n",
    "del Number, Sum, SingleDigit"
   ]
  },
  {
   "cell_type": "code",
   "execution_count": 6,
   "metadata": {},
   "outputs": [
    {
     "name": "stdout",
     "output_type": "stream",
     "text": [
      "Multi is:  6\n"
     ]
    }
   ],
   "source": [
    "# \"Program to find digital sum of a given Number\n",
    "#    ex: n=123  Digital sum----->1+2+3=6\n",
    "# \"\n",
    "Number = int(input(\"Enter Number: \"))\n",
    "Multi = 1\n",
    "\n",
    "while Number > 0:\n",
    "    SingleDigit = Number % 10\n",
    "    Multi *= SingleDigit\n",
    "    Number = Number // 10\n",
    "\n",
    "print(\"Multi is: \",Multi)"
   ]
  },
  {
   "cell_type": "code",
   "execution_count": null,
   "metadata": {},
   "outputs": [],
   "source": [
    "# Find the sum of the series 3 +33 + 333 + 3333 + .. n terms\n"
   ]
  },
  {
   "cell_type": "code",
   "execution_count": 7,
   "metadata": {},
   "outputs": [
    {
     "name": "stdout",
     "output_type": "stream",
     "text": [
      "*\n",
      "**\n",
      "***\n",
      "****\n",
      "*****\n"
     ]
    }
   ],
   "source": [
    "# \"Print the following pattern\n",
    "# * \n",
    "# * * \n",
    "# * * * \n",
    "# * * * * \n",
    "# * * * * * \n",
    "# * * * * \n",
    "# * * * \n",
    "# * * \n",
    "# *\"\n",
    "\n",
    "for i in range(1,6):\n",
    "    print(\"*\"*i)\n",
    "\n"
   ]
  }
 ],
 "metadata": {
  "interpreter": {
   "hash": "27b300438e21ba2aca3a0a49ad832b8b6aeda8e0c574b88f13120bb2334a176a"
  },
  "kernelspec": {
   "display_name": "Python 3.8.11 64-bit ('ClgWork': conda)",
   "name": "python3"
  },
  "language_info": {
   "codemirror_mode": {
    "name": "ipython",
    "version": 3
   },
   "file_extension": ".py",
   "mimetype": "text/x-python",
   "name": "python",
   "nbconvert_exporter": "python",
   "pygments_lexer": "ipython3",
   "version": "3.8.11"
  },
  "orig_nbformat": 4
 },
 "nbformat": 4,
 "nbformat_minor": 2
}
