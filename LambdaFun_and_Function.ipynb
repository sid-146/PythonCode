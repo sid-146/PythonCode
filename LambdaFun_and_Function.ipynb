{
 "cells": [
  {
   "cell_type": "code",
   "execution_count": null,
   "source": [
    "# for autosaving jupyter notebook \r\n",
    "# these thing is giving problem check this!!\r\n",
    "%autosave 60"
   ],
   "outputs": [],
   "metadata": {}
  },
  {
   "cell_type": "code",
   "execution_count": null,
   "source": [
    "## Lambda function \r\n",
    "\r\n",
    "(lambda x,y:x+y)(5,6)"
   ],
   "outputs": [],
   "metadata": {}
  },
  {
   "cell_type": "code",
   "execution_count": 1,
   "source": [
    "## Normal function \r\n",
    "\r\n",
    "def fun(x,y):\r\n",
    "    return x+y\r\n",
    "\r\n",
    "print(fun(5,6))"
   ],
   "outputs": [
    {
     "output_type": "stream",
     "name": "stdout",
     "text": [
      "11\n"
     ]
    }
   ],
   "metadata": {}
  },
  {
   "cell_type": "code",
   "execution_count": null,
   "source": [
    "## using filter function with lambda\r\n",
    "\r\n",
    "list1 = [1,2,3,4,5,6,7,8,9]\r\n",
    "\r\n",
    "result = list(filter(lambda x:x%2 == 0, list1))\r\n",
    "print(result)"
   ],
   "outputs": [],
   "metadata": {}
  },
  {
   "cell_type": "code",
   "execution_count": null,
   "source": [
    "### using map function with lambda \r\n",
    "\r\n",
    "power = list(map(lambda x:pow(x,2),[1,2,3,4,5]))\r\n",
    "print(power)\r\n",
    "\r\n",
    "add = list(map(lambda x,y:x+y,[1,2,3,4,5],[10,20,30,40,50]))\r\n",
    "print(add)"
   ],
   "outputs": [],
   "metadata": {}
  },
  {
   "cell_type": "code",
   "execution_count": null,
   "source": [
    "StrList = [\"Sudhanwa\", \"Kaveeshwar\"]\r\n",
    "\r\n",
    "ans = list(map(list, StrList))\r\n",
    "print(ans)"
   ],
   "outputs": [],
   "metadata": {}
  },
  {
   "cell_type": "code",
   "execution_count": null,
   "source": [
    "fun= lambda x: x**x\r\n",
    "\r\n",
    "print(fun(10))"
   ],
   "outputs": [],
   "metadata": {}
  },
  {
   "cell_type": "code",
   "execution_count": null,
   "source": [
    "double = [lambda x=x: x*x for x in range(1,11)]\r\n",
    "\r\n",
    "for i in double:\r\n",
    "    print(i())"
   ],
   "outputs": [],
   "metadata": {}
  },
  {
   "cell_type": "code",
   "execution_count": null,
   "source": [
    "## different parameters\r\n",
    "\r\n",
    "def Parameters(First,Second,Third):\r\n",
    "    print(\"First parameter: \",First,type(First))\r\n",
    "    print(\"Second parameter: \", Second, type(Second))\r\n",
    "    print(\"Third parameter: \", Third, type(Third))\r\n",
    "    \r\n",
    "Parameters(11,11.1,\"Sudhanwa Kaveeshwar\" )\r\n",
    "    "
   ],
   "outputs": [],
   "metadata": {}
  },
  {
   "cell_type": "code",
   "execution_count": null,
   "source": [
    "### default parameter\r\n",
    "\r\n",
    "def DefaultParam(First, Second = 100):\r\n",
    "    print(\"First: \", First)\r\n",
    "    print(\"Second: \", Second )\r\n",
    "    \r\n",
    "    \r\n",
    "DefaultParam(12)\r\n",
    "    "
   ],
   "outputs": [],
   "metadata": {}
  },
  {
   "cell_type": "code",
   "execution_count": null,
   "source": [
    "### Keyword args\r\n",
    "\r\n",
    "def KeywordArg(Name, Last):\r\n",
    "    print(Name+\" \"+Last)\r\n",
    "    \r\n",
    "    \r\n",
    "KeywordArg(Name=\"Sudhanwa\",Last = \"Kaveeshwar\")\r\n",
    "KeywordArg(Last=\"Kaveeshwar\",Name=\"Sudhanwa\") "
   ],
   "outputs": [],
   "metadata": {}
  },
  {
   "cell_type": "code",
   "execution_count": null,
   "source": [
    "### variable length args\r\n",
    "\r\n",
    "def VariLen(*args):\r\n",
    "    for arg in args:\r\n",
    "        print(arg, end=\" \")\r\n",
    "    \r\n",
    "VariLen(\"Sudhanwa\", \"Kaveeshwar\", 57, \"CI\")"
   ],
   "outputs": [],
   "metadata": {}
  },
  {
   "cell_type": "code",
   "execution_count": null,
   "source": [
    "### variable length keyword Args\r\n",
    "\r\n",
    "def KeyVari(**kargs):\r\n",
    "    for key, val in kargs.items():\r\n",
    "        print(\"%s -> %s\" % (key,val))\r\n",
    "        \r\n",
    "KeyVari(Start =\"Starting\", Middle=\"Middle\", End=\"Ending\")\r\n"
   ],
   "outputs": [],
   "metadata": {}
  },
  {
   "cell_type": "code",
   "execution_count": null,
   "source": [
    "### docstring function \r\n",
    "## this is used to describe functionality of function\r\n",
    "\r\n",
    "def DocString(param):\r\n",
    "    \"\"\"This is how doc string function works\"\"\"\r\n",
    "    \r\n",
    "    print(\"This is inside the function\")\r\n",
    "    \r\n",
    "\r\n",
    "DocString(\"parameter\")\r\n",
    "print(DocString.__doc__)"
   ],
   "outputs": [],
   "metadata": {}
  },
  {
   "cell_type": "code",
   "execution_count": null,
   "source": [
    "## Returning Function\r\n",
    "\r\n",
    "def Returning(val):\r\n",
    "    return val*val\r\n",
    "\r\n",
    "Returning(5)\r\n",
    "Returning(10)"
   ],
   "outputs": [],
   "metadata": {}
  },
  {
   "cell_type": "code",
   "execution_count": null,
   "source": [
    "### Multiple Returning \r\n",
    "\r\n",
    "def multi(val):\r\n",
    "    return val*val, val**val,val+val\r\n",
    "\r\n",
    "square, power, plus = multi(5)\r\n",
    "print(square, power, plus)"
   ],
   "outputs": [],
   "metadata": {}
  },
  {
   "cell_type": "code",
   "execution_count": null,
   "source": [
    "### Reference \r\n",
    "\r\n",
    "def ref(x):\r\n",
    "    x = [11,22,33]\r\n",
    "#     return x\r\n",
    "    print(\"Inside ref fun: \", x)\r\n",
    "    \r\n",
    "x = 10 \r\n",
    "print(\"Before calling: \",x)\r\n",
    "lst = [1,2,3,4,5]\r\n",
    "ref(lst)\r\n",
    "print(\"After calling: \",x)\r\n",
    "\r\n"
   ],
   "outputs": [],
   "metadata": {}
  },
  {
   "cell_type": "code",
   "execution_count": null,
   "source": [
    "### python function within function\r\n",
    "\r\n",
    "def f1(value):\r\n",
    "    print(value)\r\n",
    "    \r\n",
    "    def f2(value):\r\n",
    "        strg = \"%d is value of parameter passed to inner function\"%(value)\r\n",
    "        print(strg)\r\n",
    "        \r\n",
    "    \r\n",
    "    f2(value)\r\n",
    "    \r\n",
    "f1(100)"
   ],
   "outputs": [],
   "metadata": {}
  },
  {
   "cell_type": "code",
   "execution_count": null,
   "source": [
    "### global keyword and global function\r\n",
    "\r\n",
    "\r\n",
    "# this are global variable\r\n",
    "a = 10\r\n",
    "b = 10\r\n",
    "\r\n",
    "\r\n",
    "def add():\r\n",
    "    c = a+b\r\n",
    "    a = a+b # this will give error \r\n",
    "    # bcoz we are trying to assign the value to variable of outer scope\r\n",
    "    print(\"C: \",c)\r\n",
    "    print(\"A: \",a) \r\n",
    "    \r\n",
    "    \r\n",
    "add()\r\n",
    "\r\n",
    "# ~\\AppData\\Local\\Temp/ipykernel_9276/1639514214.py in <module>\r\n",
    "#      13     print(\"D: \",d)\r\n",
    "#      14 \r\n",
    "# ---> 15 add()\r\n",
    "\r\n",
    "# ~\\AppData\\Local\\Temp/ipykernel_9276/1639514214.py in add()\r\n",
    "#       8 \r\n",
    "#       9 def add():\r\n",
    "# ---> 10     c = a+b\r\n",
    "#      11     a = a+b\r\n",
    "#      12     print(\"C: \",c)\r\n",
    "\r\n",
    "# UnboundLocalError: local variable 'a' referenced before assignment\r\n"
   ],
   "outputs": [],
   "metadata": {}
  },
  {
   "cell_type": "code",
   "execution_count": null,
   "source": [
    "### using global keyword\n",
    "\n",
    "## global variable says that do not initialize another instance\n",
    "## use the global variable and overwrite it \n",
    "\n",
    "\n",
    "x = 10 \n",
    "y = 11\n",
    "\n",
    "def fun():\n",
    "    global x\n",
    "    \n",
    "    print(\"Inside Function: \", x)\n",
    "    \n",
    "    x = x + y\n",
    "    \n",
    "    print(\"Inside Function changing value of x:\" ,x)\n",
    "    \n",
    "fun()\n",
    "\n",
    "print(\"Outside function value of x: \", x)"
   ],
   "outputs": [],
   "metadata": {}
  },
  {
   "cell_type": "code",
   "execution_count": 20,
   "source": [
    "### nested function global variable\n",
    "\n",
    "var = 0\n",
    "\n",
    "## here nonlocal also works same as global but it is used\n",
    "## for variable inside the function\n",
    "\n",
    "def f1():\n",
    "    global var\n",
    "    var = 100\n",
    "    var1 = 200\n",
    "    \n",
    "    print(\"inside f1: \",var)\n",
    "    \n",
    "    def nested():\n",
    "        global var\n",
    "        nonlocal var1 \n",
    "        print(\"var1: \",var1)\n",
    "        print(\"inside nested fun: \", var)\n",
    "        var = var + var1\n",
    "        print(\"after increment %d:\" % var)\n",
    "        \n",
    "    \n",
    "    nested()\n",
    "    \n",
    "f1()"
   ],
   "outputs": [
    {
     "output_type": "stream",
     "name": "stdout",
     "text": [
      "inside f1:  100\n",
      "var1:  200\n",
      "inside nested fun:  100\n",
      "after increment 300:\n"
     ]
    }
   ],
   "metadata": {}
  }
 ],
 "metadata": {
  "kernelspec": {
   "name": "python3",
   "display_name": "Python 3.8.11 64-bit ('ClgWork': conda)"
  },
  "language_info": {
   "codemirror_mode": {
    "name": "ipython",
    "version": 3
   },
   "file_extension": ".py",
   "mimetype": "text/x-python",
   "name": "python",
   "nbconvert_exporter": "python",
   "pygments_lexer": "ipython3",
   "version": "3.8.11"
  },
  "interpreter": {
   "hash": "92f3f4f30549b17a772c93ea15b7e33efb6f23774e9986ae939b90d7a6a55e06"
  }
 },
 "nbformat": 4,
 "nbformat_minor": 5
}