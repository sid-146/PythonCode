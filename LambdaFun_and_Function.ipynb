{
 "cells": [
  {
   "cell_type": "code",
   "execution_count": null,
   "id": "040f944b",
   "metadata": {},
   "outputs": [],
   "source": [
    "# for autosaving jupyter notebook \n",
    "# these thing is giving problem check this!!\n",
    "%autosave 60"
   ]
  },
  {
   "cell_type": "code",
   "execution_count": null,
   "id": "37d04d62",
   "metadata": {},
   "outputs": [],
   "source": [
    "## Lambda function \n",
    "\n",
    "(lambda x,y:x+y)(5,6)"
   ]
  },
  {
   "cell_type": "code",
   "execution_count": null,
   "id": "13ef9b16",
   "metadata": {},
   "outputs": [],
   "source": [
    "### Normal function \n",
    "\n",
    "def fun(x,y):\n",
    "    return x+y\n",
    "\n",
    "print(fun(5,6))"
   ]
  },
  {
   "cell_type": "code",
   "execution_count": null,
   "id": "7cdf02d7",
   "metadata": {},
   "outputs": [],
   "source": [
    "## using filter function with lambda\n",
    "\n",
    "list1 = [1,2,3,4,5,6,7,8,9]\n",
    "\n",
    "result = list(filter(lambda x:x%2 == 0, list1))\n",
    "print(result)"
   ]
  },
  {
   "cell_type": "code",
   "execution_count": null,
   "id": "5b6c0c51",
   "metadata": {},
   "outputs": [],
   "source": [
    "### using map function with lambda \n",
    "\n",
    "power = list(map(lambda x:pow(x,2),[1,2,3,4,5]))\n",
    "print(power)\n",
    "\n",
    "add = list(map(lambda x,y:x+y,[1,2,3,4,5],[10,20,30,40,50]))\n",
    "print(add)"
   ]
  },
  {
   "cell_type": "code",
   "execution_count": null,
   "id": "ccd0f829",
   "metadata": {},
   "outputs": [],
   "source": [
    "StrList = [\"Sudhanwa\", \"Kaveeshwar\"]\n",
    "\n",
    "ans = list(map(list, StrList))\n",
    "print(ans)"
   ]
  },
  {
   "cell_type": "code",
   "execution_count": null,
   "id": "4bb60a4e",
   "metadata": {},
   "outputs": [],
   "source": [
    "fun= lambda x: x**x\n",
    "\n",
    "print(fun(10))"
   ]
  },
  {
   "cell_type": "code",
   "execution_count": null,
   "id": "4906a03c",
   "metadata": {},
   "outputs": [],
   "source": [
    "double = [lambda x=x: x*x for x in range(1,11)]\n",
    "\n",
    "for i in double:\n",
    "    print(i())"
   ]
  },
  {
   "cell_type": "code",
   "execution_count": null,
   "id": "70e92598",
   "metadata": {},
   "outputs": [],
   "source": [
    "## different parameters\n",
    "\n",
    "def Parameters(First,Second,Third):\n",
    "    print(\"First parameter: \",First,type(First))\n",
    "    print(\"Second parameter: \", Second, type(Second))\n",
    "    print(\"Third parameter: \", Third, type(Third))\n",
    "    \n",
    "Parameters(11,11.1,\"Sudhanwa Kaveeshwar\" )\n",
    "    "
   ]
  },
  {
   "cell_type": "code",
   "execution_count": null,
   "id": "f7fe3999",
   "metadata": {},
   "outputs": [],
   "source": [
    "### default parameter\n",
    "\n",
    "def DefaultParam(First, Second = 100):\n",
    "    print(\"First: \", First)\n",
    "    print(\"Second: \", Second )\n",
    "    \n",
    "    \n",
    "DefaultParam(12)\n",
    "    "
   ]
  },
  {
   "cell_type": "code",
   "execution_count": null,
   "id": "c4a8aec3",
   "metadata": {},
   "outputs": [],
   "source": [
    "### Keyword args\n",
    "\n",
    "def KeywordArg(Name, Last):\n",
    "    print(Name+\" \"+Last)\n",
    "    \n",
    "    \n",
    "KeywordArg(Name=\"Sudhanwa\",Last = \"Kaveeshwar\")\n",
    "KeywordArg(Last=\"Kaveeshwar\",Name=\"Sudhanwa\") "
   ]
  },
  {
   "cell_type": "code",
   "execution_count": null,
   "id": "b728a236",
   "metadata": {},
   "outputs": [],
   "source": [
    "### variable length args\n",
    "\n",
    "def VariLen(*args):\n",
    "    for arg in args:\n",
    "        print(arg, end=\" \")\n",
    "    \n",
    "VariLen(\"Sudhanwa\", \"Kaveeshwar\", 57, \"CI\")"
   ]
  },
  {
   "cell_type": "code",
   "execution_count": null,
   "id": "cd6d871f",
   "metadata": {},
   "outputs": [],
   "source": [
    "### variable length keyword Args\n",
    "\n",
    "def KeyVari(**kargs):\n",
    "    for key, val in kargs.items():\n",
    "        print(\"%s -> %s\" % (key,val))\n",
    "        \n",
    "KeyVari(Start =\"Starting\", Middle=\"Middle\", End=\"Ending\")\n"
   ]
  },
  {
   "cell_type": "code",
   "execution_count": null,
   "id": "4b799abd",
   "metadata": {},
   "outputs": [],
   "source": [
    "### docstring function \n",
    "## this is used to describe functionality of function\n",
    "\n",
    "def DocString(param):\n",
    "    \"\"\"This is how doc string function works\"\"\"\n",
    "    \n",
    "    print(\"This is inside the function\")\n",
    "    \n",
    "\n",
    "DocString(\"parameter\")\n",
    "print(DocString.__doc__)"
   ]
  },
  {
   "cell_type": "code",
   "execution_count": null,
   "id": "a1e1abc2",
   "metadata": {},
   "outputs": [],
   "source": [
    "## Returning Function\n",
    "\n",
    "def Returning(val):\n",
    "    return val*val\n",
    "\n",
    "Returning(5)\n",
    "Returning(10)"
   ]
  },
  {
   "cell_type": "code",
   "execution_count": null,
   "id": "97f7c674",
   "metadata": {},
   "outputs": [],
   "source": [
    "### Multiple Returning \n",
    "\n",
    "def multi(val):\n",
    "    return val*val, val**val,val+val\n",
    "\n",
    "square, power, plus = multi(5)\n",
    "print(square, power, plus)"
   ]
  },
  {
   "cell_type": "code",
   "execution_count": null,
   "id": "62dea8e4",
   "metadata": {},
   "outputs": [],
   "source": [
    "### Reference \n",
    "\n",
    "def ref(x):\n",
    "    x = [11,22,33]\n",
    "#     return x\n",
    "    print(\"Inside ref fun: \", x)\n",
    "    \n",
    "x = 10 \n",
    "print(\"Before calling: \",x)\n",
    "lst = [1,2,3,4,5]\n",
    "ref(lst)\n",
    "print(\"After calling: \",x)\n",
    "\n"
   ]
  },
  {
   "cell_type": "code",
   "execution_count": null,
   "id": "fff89368",
   "metadata": {},
   "outputs": [],
   "source": [
    "### python function within function\n",
    "\n",
    "def f1(value):\n",
    "    print(value)\n",
    "    \n",
    "    def f2(value):\n",
    "        strg = \"%d is value of parameter passed to inner function\"%(value)\n",
    "        print(strg)\n",
    "        \n",
    "    \n",
    "    f2(value)\n",
    "    \n",
    "f1(100)"
   ]
  },
  {
   "cell_type": "code",
   "execution_count": null,
   "id": "6b0a6b19",
   "metadata": {},
   "outputs": [],
   "source": [
    "### global keyword and global function\n",
    "\n",
    "\n",
    "# this are global variable\n",
    "a = 10\n",
    "b = 10\n",
    "\n",
    "\n",
    "def add():\n",
    "    c = a+b\n",
    "    a = a+b # this will give error \n",
    "    # bcoz we are trying to assign the value to variable of outer scope\n",
    "    print(\"C: \",c)\n",
    "    print(\"A: \",a) \n",
    "    \n",
    "    \n",
    "add()\n",
    "\n",
    "# ~\\AppData\\Local\\Temp/ipykernel_9276/1639514214.py in <module>\n",
    "#      13     print(\"D: \",d)\n",
    "#      14 \n",
    "# ---> 15 add()\n",
    "\n",
    "# ~\\AppData\\Local\\Temp/ipykernel_9276/1639514214.py in add()\n",
    "#       8 \n",
    "#       9 def add():\n",
    "# ---> 10     c = a+b\n",
    "#      11     a = a+b\n",
    "#      12     print(\"C: \",c)\n",
    "\n",
    "# UnboundLocalError: local variable 'a' referenced before assignment\n"
   ]
  },
  {
   "cell_type": "code",
   "execution_count": null,
   "id": "4e65380a",
   "metadata": {},
   "outputs": [],
   "source": [
    "### using global keyword\n",
    "\n",
    "## global variable says that do not initialize another instance\n",
    "## use the global variable and overwrite it \n",
    "\n",
    "\n",
    "x = 10 \n",
    "y = 11\n",
    "\n",
    "def fun():\n",
    "    global x\n",
    "    \n",
    "    print(\"Inside Function: \", x)\n",
    "    \n",
    "    x = x + y\n",
    "    \n",
    "    print(\"Inside Function changing value of x:\" ,x)\n",
    "    \n",
    "fun()\n",
    "\n",
    "print(\"Outside function value of x: \", x)"
   ]
  },
  {
   "cell_type": "code",
   "execution_count": 20,
   "id": "73ff3467",
   "metadata": {},
   "outputs": [
    {
     "name": "stdout",
     "output_type": "stream",
     "text": [
      "inside f1:  100\n",
      "var1:  200\n",
      "inside nested fun:  100\n",
      "after increment 300:\n"
     ]
    }
   ],
   "source": [
    "### nested function global variable\n",
    "\n",
    "var = 0\n",
    "\n",
    "## here nonlocal also works same as global but it is used\n",
    "## for variable inside the function\n",
    "\n",
    "def f1():\n",
    "    global var\n",
    "    var = 100\n",
    "    var1 = 200\n",
    "    \n",
    "    print(\"inside f1: \",var)\n",
    "    \n",
    "    def nested():\n",
    "        global var\n",
    "        nonlocal var1 \n",
    "        print(\"var1: \",var1)\n",
    "        print(\"inside nested fun: \", var)\n",
    "        var = var + var1\n",
    "        print(\"after increment %d:\" % var)\n",
    "        \n",
    "    \n",
    "    nested()\n",
    "    \n",
    "f1()"
   ]
  }
 ],
 "metadata": {
  "kernelspec": {
   "display_name": "Python 3 (ipykernel)",
   "language": "python",
   "name": "python3"
  },
  "language_info": {
   "codemirror_mode": {
    "name": "ipython",
    "version": 3
   },
   "file_extension": ".py",
   "mimetype": "text/x-python",
   "name": "python",
   "nbconvert_exporter": "python",
   "pygments_lexer": "ipython3",
   "version": "3.8.11"
  }
 },
 "nbformat": 4,
 "nbformat_minor": 5
}
