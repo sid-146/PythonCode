{
 "cells": [
  {
   "cell_type": "code",
   "execution_count": null,
   "metadata": {},
   "outputs": [],
   "source": [
    "#! Given two integer numbers return their sum. If the sum is greater than 100, then return their product.\n",
    "\n",
    "First, Second = map(\n",
    "   int ,input(\"Enter two number seprated by ',': \").split(\",\"))\n",
    "\n",
    "if First+Second <= 100:\n",
    "    print(\"Sum: \",First+Second)\n",
    "else:\n",
    "    print(\"Multiplication: \",First*Second)\n",
    "\n",
    "del First, Second\n"
   ]
  },
  {
   "cell_type": "code",
   "execution_count": null,
   "metadata": {},
   "outputs": [],
   "source": [
    "#! Write a Python program to calculate the sum of three given numbers, if the values are not - equal then return four times of their sum\n",
    "\n",
    "First, Second, Third = map(\n",
    "    int, input(\"Enter two number seprated by ',': \").split(\",\"))\n",
    "\n",
    "if First == Second == Third: \n",
    "    print(\"Sum: \", First+Second+Third)\n",
    "else:\n",
    "    print(\"Four time sum: \",(First+Second+Third)*4)\n",
    "\n",
    "del First, Second, Third"
   ]
  },
  {
   "cell_type": "code",
   "execution_count": null,
   "metadata": {},
   "outputs": [],
   "source": [
    "#! A shop will give discount of 50% if the cost of purchased quantity is more than 10000. Ask user for quantity suppose, \n",
    "# one unit will cost 100. Judge and print total cost for user.\n",
    "\n",
    "import random\n",
    "\n",
    "Quantity = int(input(\"Enter total number of item purchased: \"))\n",
    "\n",
    "TotalPrices = []\n",
    "\n",
    "for i in range(Quantity):\n",
    "    Price = random.randint(375,1000)\n",
    "    TotalPrices.append(Price)\n",
    "\n",
    "print(\"Total number of item purchased: \", Quantity)\n",
    "\n",
    "if sum(TotalPrices)<10000:\n",
    "    print(\"Final Amount: \", sum(TotalPrices))\n",
    "else:\n",
    "    print(\"Final Discounted amount: \",sum(TotalPrices)/2)\n",
    "\n",
    "del Quantity, TotalPrices,Price"
   ]
  },
  {
   "cell_type": "code",
   "execution_count": null,
   "metadata": {},
   "outputs": [],
   "source": [
    "# To check whether a number is divisible by 8 and 12 or not.\n",
    "\n",
    "Number = int(input(\"Enter Number: \"))\n",
    "\n",
    "if Number%8 == 0:\n",
    "    print(\"Number is Divisible by 8: \", Number)\n",
    "elif Number%12 == 0:\n",
    "    print(\"Number is Divisible by 12: \", Number)\n",
    "else:\n",
    "    print(\"Number is not divisible by either 8 or 12: \", Number)\n",
    "\n",
    "del Number\n"
   ]
  },
  {
   "cell_type": "code",
   "execution_count": null,
   "metadata": {},
   "outputs": [],
   "source": [
    "#! To check whether a given number is even or odd.\n",
    "\n",
    "Number = int(input(\"Enter Number: \"))\n",
    "\n",
    "if Number%2 ==0:\n",
    "    print(\"Number is Even: \",Number)\n",
    "else:\n",
    "    print(\"Number is Odd: \", Number)"
   ]
  },
  {
   "cell_type": "code",
   "execution_count": 18,
   "metadata": {},
   "outputs": [
    {
     "name": "stdout",
     "output_type": "stream",
     "text": [
      "33.0\n"
     ]
    }
   ],
   "source": [
    "#\"Write a program to input marks of five subjects Physics, Chemistry, Biology, Mathematics and Computer. \n",
    "# Calculate percentage and grade according to following:\n",
    "# Percentage >= 90 % : Grade A\n",
    "# Percentage >= 80 % : Grade B\n",
    "# Percentage >= 70 % : Grade C\n",
    "# Percentage >= 60 % : Grade D\n",
    "# Percentage >= 40 % : Grade E\n",
    "# Percentage < 40 % :  Grade F\"\n",
    "\n",
    "Phy, Chem, Bio, Math,Comp = map(int, input(\"Enter marks seprated by space: \").split(\" \"))\n",
    "\n",
    "Marks = Phy+ Chem+ Bio+ Math+ Comp\n",
    "\n",
    "Perc = (Marks/500)*100\n",
    "\n",
    "if Perc >= 90:\n",
    "    print(\"A grade: \", Perc)\n",
    "elif >= 80:\n",
    "print(\"A grade: \", Perc)\n",
    "\n",
    "\n",
    "\n"
   ]
  }
 ],
 "metadata": {
  "interpreter": {
   "hash": "92f3f4f30549b17a772c93ea15b7e33efb6f23774e9986ae939b90d7a6a55e06"
  },
  "kernelspec": {
   "display_name": "Python 3.8.11 64-bit ('ClgWork': conda)",
   "name": "python3"
  },
  "language_info": {
   "codemirror_mode": {
    "name": "ipython",
    "version": 3
   },
   "file_extension": ".py",
   "mimetype": "text/x-python",
   "name": "python",
   "nbconvert_exporter": "python",
   "pygments_lexer": "ipython3",
   "version": "3.8.11"
  },
  "orig_nbformat": 4
 },
 "nbformat": 4,
 "nbformat_minor": 2
}
